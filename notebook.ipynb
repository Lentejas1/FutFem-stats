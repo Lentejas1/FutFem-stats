{
 "cells": [
  {
   "cell_type": "code",
   "execution_count": 17,
   "metadata": {
    "collapsed": true
   },
   "outputs": [],
   "source": [
    "import requests\n",
    "import pandas as pd\n",
    "from bs4 import BeautifulSoup\n",
    "import urllib3\n",
    "import matplotlib.pyplot as plt\n",
    "urllib3.disable_warnings()"
   ]
  },
  {
   "cell_type": "code",
   "execution_count": 18,
   "outputs": [],
   "source": [
    "def scrapper(df, url):\n",
    "    page = requests.get(url, verify=False)\n",
    "    soup = BeautifulSoup(page.content, \"html.parser\")\n",
    "    txt = soup.find_all('div', {'class' : 'team local pr mb10'})\n",
    "    df_local = pd.DataFrame(columns=[\"Min\", \"Event\", \"Player\", \"Team\", \"Against\", \"Home/Away\"])\n",
    "    df_visitor = pd.DataFrame(columns=[\"Min\", \"Event\", \"Player\", \"Team\", \"Against\", \"Home/Away\"])\n",
    "\n",
    "    data = []\n",
    "\n",
    "    local = url.split(\"/\")[4]\n",
    "    visitor = url.split(\"/\")[5]\n",
    "    for i in range(len(txt)):\n",
    "        plchldr = txt[i].get_text('\\t').split()\n",
    "        while \"\" in plchldr:\n",
    "            plchldr.replace(\" \", \"\")\n",
    "        data.append(plchldr)\n",
    "    for i in range(len(data)):\n",
    "        ind = i\n",
    "        possible_events = [\"Gol\", \"puerta\", \"Asistencia\", \"Entra\", \"Sale\", \"Amarilla\", \"Roja\", \"Lesionado\", \"anulado\"]\n",
    "        #print(data[i])\n",
    "\n",
    "        while True:\n",
    "            try:\n",
    "                minute = int(data[ind][0].replace(\"'\", \"\"))\n",
    "                break\n",
    "            except:\n",
    "                ind -= 1\n",
    "                pass\n",
    "        player = None\n",
    "        for j in range(len(data[i])):\n",
    "                for event in possible_events:\n",
    "                    if data[i][j] == event:\n",
    "                        if event == \"puerta\":\n",
    "                            event_type = \"Gol en propia puerta\"\n",
    "                            player =  data[i][j-4]\n",
    "                        elif event == \"anulado\":\n",
    "                            event_type = \"Gol anulado\"\n",
    "                            player =  data[i][j-2]\n",
    "                        elif event == \"Amarilla\":\n",
    "                            event_type = \"Tarjeta amarilla\"\n",
    "                            player = data[i][j-2]\n",
    "                        elif event == \"Roja\":\n",
    "                            event_type = \"Tarjeta roja\"\n",
    "                            player = data[i][j-2]\n",
    "                        elif event == \"Lesionado\":\n",
    "                            event_type = \"Lesionada\"\n",
    "                        else:\n",
    "                            event_type = event\n",
    "                            player =  data[i][j-1]\n",
    "        df_local = pd.concat([df_local, pd.DataFrame([{\"Min\": minute, \"Event\": event_type, \"Player\": player, \"Team\": local, \"Against\": visitor, \"Home/Away\": \"Home\"}])], ignore_index=True)\n",
    "\n",
    "    txt = soup.find_all('div', {'class' : 'team visitor pr mb10'})\n",
    "    data = []\n",
    "\n",
    "    for i in range(len(txt)):\n",
    "        plchldr = txt[i].get_text('\\t').split()\n",
    "        while \"\" in plchldr:\n",
    "            plchldr.replace(\" \", \"\")\n",
    "        data.append(plchldr)\n",
    "\n",
    "    for i in range(len(data)):\n",
    "        ind = i\n",
    "        possible_events = [\"Gol\", \"puerta\", \"Asistencia\", \"Entra\", \"Sale\", \"Amarilla\", \"Roja\", \"Lesionado\", \"Tiro\", \"anulado\"]\n",
    "        while True:\n",
    "            try:\n",
    "                minute = int(data[ind][0].replace(\"'\", \"\"))\n",
    "                break\n",
    "            except:\n",
    "                ind -= 1\n",
    "                pass\n",
    "        for j in range(len(data[i])):\n",
    "                for event in possible_events:\n",
    "                    if data[i][j] == event:\n",
    "                        if event == \"puerta\":\n",
    "                            event_type = \"Gol en propia puerta\"\n",
    "                            player =  data[i][j-4]\n",
    "                        elif event == \"anulado\":\n",
    "                            event_type = \"Gol anulado\"\n",
    "                            player =  data[i][j-2]\n",
    "                        elif event == \"Amarilla\":\n",
    "                            event_type = \"Tarjeta amarilla\"\n",
    "                            player = data[i][j-2]\n",
    "                        elif event == \"Roja\":\n",
    "                            event_type = \"Tarjeta roja\"\n",
    "                            player = data[i][j-2]\n",
    "                        elif event == \"Lesionado\":\n",
    "                            event_type = \"Lesionada\"\n",
    "                            player = data[i][j-1]\n",
    "                        elif event == \"Tiro\":\n",
    "                            event_type = \"Tiro al palo\"\n",
    "                            player = data[i][j-1]\n",
    "                        else:\n",
    "                            event_type = event\n",
    "                            player =  data[i][j-1]\n",
    "        df_visitor = pd.concat([df_visitor, pd.DataFrame([{\"Min\": minute, \"Event\": event_type, \"Player\": player, \"Team\": visitor, \"Against\": local, \"Home/Away\": \"Away\"}])], ignore_index=True)\n",
    "\n",
    "    return pd.concat([df, df_local, df_visitor])"
   ],
   "metadata": {
    "collapsed": false
   }
  },
  {
   "cell_type": "markdown",
   "source": [
    "#### Example of a single match:"
   ],
   "metadata": {
    "collapsed": false
   }
  },
  {
   "cell_type": "code",
   "execution_count": 19,
   "outputs": [
    {
     "data": {
      "text/plain": "   Min                 Event        Player                   Team  \\\n0   79                 Entra       Sánchez  villareal-cf-femenino   \n1   79                  Sale         Ainoa  villareal-cf-femenino   \n2   79                 Entra         Bicho  villareal-cf-femenino   \n3   79                  Sale        García  villareal-cf-femenino   \n4   66                  Sale        Sheila  villareal-cf-femenino   \n5   66                 Entra        Estefa  villareal-cf-femenino   \n6   56            Asistencia         Ainoa  villareal-cf-femenino   \n7   56                   Gol        García  villareal-cf-femenino   \n8   55                 Entra      Llompart  villareal-cf-femenino   \n9   55                  Sale    Cienfuegos  villareal-cf-femenino   \n10  47      Tarjeta amarilla        Sheila  villareal-cf-femenino   \n11  46                 Entra         Fatou  villareal-cf-femenino   \n12  46                  Sale         Belén  villareal-cf-femenino   \n0   85  Gol en propia puerta          Lara  fc-barcelona-femenino   \n1   82                 Entra  Crnogorcevic  fc-barcelona-femenino   \n2   82                  Sale         Geyse  fc-barcelona-femenino   \n3   82                 Entra        Codina  fc-barcelona-femenino   \n4   82                  Sale       Paredes  fc-barcelona-femenino   \n5   81      Tarjeta amarilla        Hansen  fc-barcelona-femenino   \n6   75            Asistencia        Hansen  fc-barcelona-femenino   \n7   75                   Gol          Pina  fc-barcelona-femenino   \n8   73                 Entra        Rábano  fc-barcelona-femenino   \n9   73                  Sale         Rolfö  fc-barcelona-femenino   \n10  72             Lesionada         Rolfö  fc-barcelona-femenino   \n11  72                 Entra         Walsh  fc-barcelona-femenino   \n12  72                  Sale         Engen  fc-barcelona-femenino   \n13  72                 Entra          Pina  fc-barcelona-femenino   \n14  72                  Sale       Oshoala  fc-barcelona-femenino   \n15  48            Asistencia       Mariona  fc-barcelona-femenino   \n16  48                   Gol       Oshoala  fc-barcelona-femenino   \n17  26                   Gol          Mapi  fc-barcelona-femenino   \n\n                  Against Home/Away  \n0   fc-barcelona-femenino      Home  \n1   fc-barcelona-femenino      Home  \n2   fc-barcelona-femenino      Home  \n3   fc-barcelona-femenino      Home  \n4   fc-barcelona-femenino      Home  \n5   fc-barcelona-femenino      Home  \n6   fc-barcelona-femenino      Home  \n7   fc-barcelona-femenino      Home  \n8   fc-barcelona-femenino      Home  \n9   fc-barcelona-femenino      Home  \n10  fc-barcelona-femenino      Home  \n11  fc-barcelona-femenino      Home  \n12  fc-barcelona-femenino      Home  \n0   villareal-cf-femenino      Away  \n1   villareal-cf-femenino      Away  \n2   villareal-cf-femenino      Away  \n3   villareal-cf-femenino      Away  \n4   villareal-cf-femenino      Away  \n5   villareal-cf-femenino      Away  \n6   villareal-cf-femenino      Away  \n7   villareal-cf-femenino      Away  \n8   villareal-cf-femenino      Away  \n9   villareal-cf-femenino      Away  \n10  villareal-cf-femenino      Away  \n11  villareal-cf-femenino      Away  \n12  villareal-cf-femenino      Away  \n13  villareal-cf-femenino      Away  \n14  villareal-cf-femenino      Away  \n15  villareal-cf-femenino      Away  \n16  villareal-cf-femenino      Away  \n17  villareal-cf-femenino      Away  ",
      "text/html": "<div>\n<style scoped>\n    .dataframe tbody tr th:only-of-type {\n        vertical-align: middle;\n    }\n\n    .dataframe tbody tr th {\n        vertical-align: top;\n    }\n\n    .dataframe thead th {\n        text-align: right;\n    }\n</style>\n<table border=\"1\" class=\"dataframe\">\n  <thead>\n    <tr style=\"text-align: right;\">\n      <th></th>\n      <th>Min</th>\n      <th>Event</th>\n      <th>Player</th>\n      <th>Team</th>\n      <th>Against</th>\n      <th>Home/Away</th>\n    </tr>\n  </thead>\n  <tbody>\n    <tr>\n      <th>0</th>\n      <td>79</td>\n      <td>Entra</td>\n      <td>Sánchez</td>\n      <td>villareal-cf-femenino</td>\n      <td>fc-barcelona-femenino</td>\n      <td>Home</td>\n    </tr>\n    <tr>\n      <th>1</th>\n      <td>79</td>\n      <td>Sale</td>\n      <td>Ainoa</td>\n      <td>villareal-cf-femenino</td>\n      <td>fc-barcelona-femenino</td>\n      <td>Home</td>\n    </tr>\n    <tr>\n      <th>2</th>\n      <td>79</td>\n      <td>Entra</td>\n      <td>Bicho</td>\n      <td>villareal-cf-femenino</td>\n      <td>fc-barcelona-femenino</td>\n      <td>Home</td>\n    </tr>\n    <tr>\n      <th>3</th>\n      <td>79</td>\n      <td>Sale</td>\n      <td>García</td>\n      <td>villareal-cf-femenino</td>\n      <td>fc-barcelona-femenino</td>\n      <td>Home</td>\n    </tr>\n    <tr>\n      <th>4</th>\n      <td>66</td>\n      <td>Sale</td>\n      <td>Sheila</td>\n      <td>villareal-cf-femenino</td>\n      <td>fc-barcelona-femenino</td>\n      <td>Home</td>\n    </tr>\n    <tr>\n      <th>5</th>\n      <td>66</td>\n      <td>Entra</td>\n      <td>Estefa</td>\n      <td>villareal-cf-femenino</td>\n      <td>fc-barcelona-femenino</td>\n      <td>Home</td>\n    </tr>\n    <tr>\n      <th>6</th>\n      <td>56</td>\n      <td>Asistencia</td>\n      <td>Ainoa</td>\n      <td>villareal-cf-femenino</td>\n      <td>fc-barcelona-femenino</td>\n      <td>Home</td>\n    </tr>\n    <tr>\n      <th>7</th>\n      <td>56</td>\n      <td>Gol</td>\n      <td>García</td>\n      <td>villareal-cf-femenino</td>\n      <td>fc-barcelona-femenino</td>\n      <td>Home</td>\n    </tr>\n    <tr>\n      <th>8</th>\n      <td>55</td>\n      <td>Entra</td>\n      <td>Llompart</td>\n      <td>villareal-cf-femenino</td>\n      <td>fc-barcelona-femenino</td>\n      <td>Home</td>\n    </tr>\n    <tr>\n      <th>9</th>\n      <td>55</td>\n      <td>Sale</td>\n      <td>Cienfuegos</td>\n      <td>villareal-cf-femenino</td>\n      <td>fc-barcelona-femenino</td>\n      <td>Home</td>\n    </tr>\n    <tr>\n      <th>10</th>\n      <td>47</td>\n      <td>Tarjeta amarilla</td>\n      <td>Sheila</td>\n      <td>villareal-cf-femenino</td>\n      <td>fc-barcelona-femenino</td>\n      <td>Home</td>\n    </tr>\n    <tr>\n      <th>11</th>\n      <td>46</td>\n      <td>Entra</td>\n      <td>Fatou</td>\n      <td>villareal-cf-femenino</td>\n      <td>fc-barcelona-femenino</td>\n      <td>Home</td>\n    </tr>\n    <tr>\n      <th>12</th>\n      <td>46</td>\n      <td>Sale</td>\n      <td>Belén</td>\n      <td>villareal-cf-femenino</td>\n      <td>fc-barcelona-femenino</td>\n      <td>Home</td>\n    </tr>\n    <tr>\n      <th>0</th>\n      <td>85</td>\n      <td>Gol en propia puerta</td>\n      <td>Lara</td>\n      <td>fc-barcelona-femenino</td>\n      <td>villareal-cf-femenino</td>\n      <td>Away</td>\n    </tr>\n    <tr>\n      <th>1</th>\n      <td>82</td>\n      <td>Entra</td>\n      <td>Crnogorcevic</td>\n      <td>fc-barcelona-femenino</td>\n      <td>villareal-cf-femenino</td>\n      <td>Away</td>\n    </tr>\n    <tr>\n      <th>2</th>\n      <td>82</td>\n      <td>Sale</td>\n      <td>Geyse</td>\n      <td>fc-barcelona-femenino</td>\n      <td>villareal-cf-femenino</td>\n      <td>Away</td>\n    </tr>\n    <tr>\n      <th>3</th>\n      <td>82</td>\n      <td>Entra</td>\n      <td>Codina</td>\n      <td>fc-barcelona-femenino</td>\n      <td>villareal-cf-femenino</td>\n      <td>Away</td>\n    </tr>\n    <tr>\n      <th>4</th>\n      <td>82</td>\n      <td>Sale</td>\n      <td>Paredes</td>\n      <td>fc-barcelona-femenino</td>\n      <td>villareal-cf-femenino</td>\n      <td>Away</td>\n    </tr>\n    <tr>\n      <th>5</th>\n      <td>81</td>\n      <td>Tarjeta amarilla</td>\n      <td>Hansen</td>\n      <td>fc-barcelona-femenino</td>\n      <td>villareal-cf-femenino</td>\n      <td>Away</td>\n    </tr>\n    <tr>\n      <th>6</th>\n      <td>75</td>\n      <td>Asistencia</td>\n      <td>Hansen</td>\n      <td>fc-barcelona-femenino</td>\n      <td>villareal-cf-femenino</td>\n      <td>Away</td>\n    </tr>\n    <tr>\n      <th>7</th>\n      <td>75</td>\n      <td>Gol</td>\n      <td>Pina</td>\n      <td>fc-barcelona-femenino</td>\n      <td>villareal-cf-femenino</td>\n      <td>Away</td>\n    </tr>\n    <tr>\n      <th>8</th>\n      <td>73</td>\n      <td>Entra</td>\n      <td>Rábano</td>\n      <td>fc-barcelona-femenino</td>\n      <td>villareal-cf-femenino</td>\n      <td>Away</td>\n    </tr>\n    <tr>\n      <th>9</th>\n      <td>73</td>\n      <td>Sale</td>\n      <td>Rolfö</td>\n      <td>fc-barcelona-femenino</td>\n      <td>villareal-cf-femenino</td>\n      <td>Away</td>\n    </tr>\n    <tr>\n      <th>10</th>\n      <td>72</td>\n      <td>Lesionada</td>\n      <td>Rolfö</td>\n      <td>fc-barcelona-femenino</td>\n      <td>villareal-cf-femenino</td>\n      <td>Away</td>\n    </tr>\n    <tr>\n      <th>11</th>\n      <td>72</td>\n      <td>Entra</td>\n      <td>Walsh</td>\n      <td>fc-barcelona-femenino</td>\n      <td>villareal-cf-femenino</td>\n      <td>Away</td>\n    </tr>\n    <tr>\n      <th>12</th>\n      <td>72</td>\n      <td>Sale</td>\n      <td>Engen</td>\n      <td>fc-barcelona-femenino</td>\n      <td>villareal-cf-femenino</td>\n      <td>Away</td>\n    </tr>\n    <tr>\n      <th>13</th>\n      <td>72</td>\n      <td>Entra</td>\n      <td>Pina</td>\n      <td>fc-barcelona-femenino</td>\n      <td>villareal-cf-femenino</td>\n      <td>Away</td>\n    </tr>\n    <tr>\n      <th>14</th>\n      <td>72</td>\n      <td>Sale</td>\n      <td>Oshoala</td>\n      <td>fc-barcelona-femenino</td>\n      <td>villareal-cf-femenino</td>\n      <td>Away</td>\n    </tr>\n    <tr>\n      <th>15</th>\n      <td>48</td>\n      <td>Asistencia</td>\n      <td>Mariona</td>\n      <td>fc-barcelona-femenino</td>\n      <td>villareal-cf-femenino</td>\n      <td>Away</td>\n    </tr>\n    <tr>\n      <th>16</th>\n      <td>48</td>\n      <td>Gol</td>\n      <td>Oshoala</td>\n      <td>fc-barcelona-femenino</td>\n      <td>villareal-cf-femenino</td>\n      <td>Away</td>\n    </tr>\n    <tr>\n      <th>17</th>\n      <td>26</td>\n      <td>Gol</td>\n      <td>Mapi</td>\n      <td>fc-barcelona-femenino</td>\n      <td>villareal-cf-femenino</td>\n      <td>Away</td>\n    </tr>\n  </tbody>\n</table>\n</div>"
     },
     "execution_count": 19,
     "metadata": {},
     "output_type": "execute_result"
    }
   ],
   "source": [
    "df = pd.DataFrame(columns=[\"Min\", \"Event\", \"Player\", \"Team\", \"Against\", \"Home/Away\"])\n",
    "url = \"https://ligaf.es/partido/villareal-cf-femenino/fc-barcelona-femenino/2023309307/eventos\"\n",
    "scrapper(df, url)"
   ],
   "metadata": {
    "collapsed": false
   }
  },
  {
   "cell_type": "markdown",
   "source": [
    "Another match:"
   ],
   "metadata": {
    "collapsed": false
   }
  },
  {
   "cell_type": "code",
   "execution_count": 20,
   "outputs": [
    {
     "data": {
      "text/plain": "   Min             Event        Player                         Team  \\\n0   74               Gol       Mariona        fc-barcelona-femenino   \n1   67              Sale      Torrejón        fc-barcelona-femenino   \n2   67              Sale          Pina        fc-barcelona-femenino   \n3   67             Entra        Bronze        fc-barcelona-femenino   \n4   67             Entra        Aitana        fc-barcelona-femenino   \n5   63               Gol       Oshoala        fc-barcelona-femenino   \n6   58             Entra          Emma        fc-barcelona-femenino   \n7   58              Sale  Crnogorcevic        fc-barcelona-femenino   \n8   56               Gol       Oshoala        fc-barcelona-femenino   \n9   48        Asistencia  Crnogorcevic        fc-barcelona-femenino   \n10  48               Gol         López        fc-barcelona-femenino   \n11  48             Entra         Pérez        fc-barcelona-femenino   \n12  48             Entra       Mariona        fc-barcelona-femenino   \n13  48              Sale         Rolfö        fc-barcelona-femenino   \n14  48              Sale      Guijarro        fc-barcelona-femenino   \n15  41               Gol  Crnogorcevic        fc-barcelona-femenino   \n16  33               Gol          None        fc-barcelona-femenino   \n17  25        Asistencia  Crnogorcevic        fc-barcelona-femenino   \n18  25               Gol       Oshoala        fc-barcelona-femenino   \n19   8        Asistencia         Rolfö        fc-barcelona-femenino   \n20   8               Gol  Crnogorcevic        fc-barcelona-femenino   \n0   78  Tarjeta amarilla        Mrabet  levante-las-planas-femenino   \n1   72             Entra          Muth  levante-las-planas-femenino   \n2   72              Sale         Vilas  levante-las-planas-femenino   \n3   64             Entra          Mora  levante-las-planas-femenino   \n4   64              Sale        Struck  levante-las-planas-femenino   \n5   62  Tarjeta amarilla        Martín  levante-las-planas-femenino   \n6   55              Sale           Bou  levante-las-planas-femenino   \n7   55             Entra         Irene  levante-las-planas-femenino   \n8   54              Sale         Julve  levante-las-planas-femenino   \n9   54             Entra         Uribe  levante-las-planas-femenino   \n10  46              Sale         Nuria  levante-las-planas-femenino   \n11  46             Entra        Parera  levante-las-planas-femenino   \n12  27  Tarjeta amarilla      Chikwelu  levante-las-planas-femenino   \n\n                        Against Home/Away  \n0   levante-las-planas-femenino      Home  \n1   levante-las-planas-femenino      Home  \n2   levante-las-planas-femenino      Home  \n3   levante-las-planas-femenino      Home  \n4   levante-las-planas-femenino      Home  \n5   levante-las-planas-femenino      Home  \n6   levante-las-planas-femenino      Home  \n7   levante-las-planas-femenino      Home  \n8   levante-las-planas-femenino      Home  \n9   levante-las-planas-femenino      Home  \n10  levante-las-planas-femenino      Home  \n11  levante-las-planas-femenino      Home  \n12  levante-las-planas-femenino      Home  \n13  levante-las-planas-femenino      Home  \n14  levante-las-planas-femenino      Home  \n15  levante-las-planas-femenino      Home  \n16  levante-las-planas-femenino      Home  \n17  levante-las-planas-femenino      Home  \n18  levante-las-planas-femenino      Home  \n19  levante-las-planas-femenino      Home  \n20  levante-las-planas-femenino      Home  \n0         fc-barcelona-femenino      Away  \n1         fc-barcelona-femenino      Away  \n2         fc-barcelona-femenino      Away  \n3         fc-barcelona-femenino      Away  \n4         fc-barcelona-femenino      Away  \n5         fc-barcelona-femenino      Away  \n6         fc-barcelona-femenino      Away  \n7         fc-barcelona-femenino      Away  \n8         fc-barcelona-femenino      Away  \n9         fc-barcelona-femenino      Away  \n10        fc-barcelona-femenino      Away  \n11        fc-barcelona-femenino      Away  \n12        fc-barcelona-femenino      Away  ",
      "text/html": "<div>\n<style scoped>\n    .dataframe tbody tr th:only-of-type {\n        vertical-align: middle;\n    }\n\n    .dataframe tbody tr th {\n        vertical-align: top;\n    }\n\n    .dataframe thead th {\n        text-align: right;\n    }\n</style>\n<table border=\"1\" class=\"dataframe\">\n  <thead>\n    <tr style=\"text-align: right;\">\n      <th></th>\n      <th>Min</th>\n      <th>Event</th>\n      <th>Player</th>\n      <th>Team</th>\n      <th>Against</th>\n      <th>Home/Away</th>\n    </tr>\n  </thead>\n  <tbody>\n    <tr>\n      <th>0</th>\n      <td>74</td>\n      <td>Gol</td>\n      <td>Mariona</td>\n      <td>fc-barcelona-femenino</td>\n      <td>levante-las-planas-femenino</td>\n      <td>Home</td>\n    </tr>\n    <tr>\n      <th>1</th>\n      <td>67</td>\n      <td>Sale</td>\n      <td>Torrejón</td>\n      <td>fc-barcelona-femenino</td>\n      <td>levante-las-planas-femenino</td>\n      <td>Home</td>\n    </tr>\n    <tr>\n      <th>2</th>\n      <td>67</td>\n      <td>Sale</td>\n      <td>Pina</td>\n      <td>fc-barcelona-femenino</td>\n      <td>levante-las-planas-femenino</td>\n      <td>Home</td>\n    </tr>\n    <tr>\n      <th>3</th>\n      <td>67</td>\n      <td>Entra</td>\n      <td>Bronze</td>\n      <td>fc-barcelona-femenino</td>\n      <td>levante-las-planas-femenino</td>\n      <td>Home</td>\n    </tr>\n    <tr>\n      <th>4</th>\n      <td>67</td>\n      <td>Entra</td>\n      <td>Aitana</td>\n      <td>fc-barcelona-femenino</td>\n      <td>levante-las-planas-femenino</td>\n      <td>Home</td>\n    </tr>\n    <tr>\n      <th>5</th>\n      <td>63</td>\n      <td>Gol</td>\n      <td>Oshoala</td>\n      <td>fc-barcelona-femenino</td>\n      <td>levante-las-planas-femenino</td>\n      <td>Home</td>\n    </tr>\n    <tr>\n      <th>6</th>\n      <td>58</td>\n      <td>Entra</td>\n      <td>Emma</td>\n      <td>fc-barcelona-femenino</td>\n      <td>levante-las-planas-femenino</td>\n      <td>Home</td>\n    </tr>\n    <tr>\n      <th>7</th>\n      <td>58</td>\n      <td>Sale</td>\n      <td>Crnogorcevic</td>\n      <td>fc-barcelona-femenino</td>\n      <td>levante-las-planas-femenino</td>\n      <td>Home</td>\n    </tr>\n    <tr>\n      <th>8</th>\n      <td>56</td>\n      <td>Gol</td>\n      <td>Oshoala</td>\n      <td>fc-barcelona-femenino</td>\n      <td>levante-las-planas-femenino</td>\n      <td>Home</td>\n    </tr>\n    <tr>\n      <th>9</th>\n      <td>48</td>\n      <td>Asistencia</td>\n      <td>Crnogorcevic</td>\n      <td>fc-barcelona-femenino</td>\n      <td>levante-las-planas-femenino</td>\n      <td>Home</td>\n    </tr>\n    <tr>\n      <th>10</th>\n      <td>48</td>\n      <td>Gol</td>\n      <td>López</td>\n      <td>fc-barcelona-femenino</td>\n      <td>levante-las-planas-femenino</td>\n      <td>Home</td>\n    </tr>\n    <tr>\n      <th>11</th>\n      <td>48</td>\n      <td>Entra</td>\n      <td>Pérez</td>\n      <td>fc-barcelona-femenino</td>\n      <td>levante-las-planas-femenino</td>\n      <td>Home</td>\n    </tr>\n    <tr>\n      <th>12</th>\n      <td>48</td>\n      <td>Entra</td>\n      <td>Mariona</td>\n      <td>fc-barcelona-femenino</td>\n      <td>levante-las-planas-femenino</td>\n      <td>Home</td>\n    </tr>\n    <tr>\n      <th>13</th>\n      <td>48</td>\n      <td>Sale</td>\n      <td>Rolfö</td>\n      <td>fc-barcelona-femenino</td>\n      <td>levante-las-planas-femenino</td>\n      <td>Home</td>\n    </tr>\n    <tr>\n      <th>14</th>\n      <td>48</td>\n      <td>Sale</td>\n      <td>Guijarro</td>\n      <td>fc-barcelona-femenino</td>\n      <td>levante-las-planas-femenino</td>\n      <td>Home</td>\n    </tr>\n    <tr>\n      <th>15</th>\n      <td>41</td>\n      <td>Gol</td>\n      <td>Crnogorcevic</td>\n      <td>fc-barcelona-femenino</td>\n      <td>levante-las-planas-femenino</td>\n      <td>Home</td>\n    </tr>\n    <tr>\n      <th>16</th>\n      <td>33</td>\n      <td>Gol</td>\n      <td>None</td>\n      <td>fc-barcelona-femenino</td>\n      <td>levante-las-planas-femenino</td>\n      <td>Home</td>\n    </tr>\n    <tr>\n      <th>17</th>\n      <td>25</td>\n      <td>Asistencia</td>\n      <td>Crnogorcevic</td>\n      <td>fc-barcelona-femenino</td>\n      <td>levante-las-planas-femenino</td>\n      <td>Home</td>\n    </tr>\n    <tr>\n      <th>18</th>\n      <td>25</td>\n      <td>Gol</td>\n      <td>Oshoala</td>\n      <td>fc-barcelona-femenino</td>\n      <td>levante-las-planas-femenino</td>\n      <td>Home</td>\n    </tr>\n    <tr>\n      <th>19</th>\n      <td>8</td>\n      <td>Asistencia</td>\n      <td>Rolfö</td>\n      <td>fc-barcelona-femenino</td>\n      <td>levante-las-planas-femenino</td>\n      <td>Home</td>\n    </tr>\n    <tr>\n      <th>20</th>\n      <td>8</td>\n      <td>Gol</td>\n      <td>Crnogorcevic</td>\n      <td>fc-barcelona-femenino</td>\n      <td>levante-las-planas-femenino</td>\n      <td>Home</td>\n    </tr>\n    <tr>\n      <th>0</th>\n      <td>78</td>\n      <td>Tarjeta amarilla</td>\n      <td>Mrabet</td>\n      <td>levante-las-planas-femenino</td>\n      <td>fc-barcelona-femenino</td>\n      <td>Away</td>\n    </tr>\n    <tr>\n      <th>1</th>\n      <td>72</td>\n      <td>Entra</td>\n      <td>Muth</td>\n      <td>levante-las-planas-femenino</td>\n      <td>fc-barcelona-femenino</td>\n      <td>Away</td>\n    </tr>\n    <tr>\n      <th>2</th>\n      <td>72</td>\n      <td>Sale</td>\n      <td>Vilas</td>\n      <td>levante-las-planas-femenino</td>\n      <td>fc-barcelona-femenino</td>\n      <td>Away</td>\n    </tr>\n    <tr>\n      <th>3</th>\n      <td>64</td>\n      <td>Entra</td>\n      <td>Mora</td>\n      <td>levante-las-planas-femenino</td>\n      <td>fc-barcelona-femenino</td>\n      <td>Away</td>\n    </tr>\n    <tr>\n      <th>4</th>\n      <td>64</td>\n      <td>Sale</td>\n      <td>Struck</td>\n      <td>levante-las-planas-femenino</td>\n      <td>fc-barcelona-femenino</td>\n      <td>Away</td>\n    </tr>\n    <tr>\n      <th>5</th>\n      <td>62</td>\n      <td>Tarjeta amarilla</td>\n      <td>Martín</td>\n      <td>levante-las-planas-femenino</td>\n      <td>fc-barcelona-femenino</td>\n      <td>Away</td>\n    </tr>\n    <tr>\n      <th>6</th>\n      <td>55</td>\n      <td>Sale</td>\n      <td>Bou</td>\n      <td>levante-las-planas-femenino</td>\n      <td>fc-barcelona-femenino</td>\n      <td>Away</td>\n    </tr>\n    <tr>\n      <th>7</th>\n      <td>55</td>\n      <td>Entra</td>\n      <td>Irene</td>\n      <td>levante-las-planas-femenino</td>\n      <td>fc-barcelona-femenino</td>\n      <td>Away</td>\n    </tr>\n    <tr>\n      <th>8</th>\n      <td>54</td>\n      <td>Sale</td>\n      <td>Julve</td>\n      <td>levante-las-planas-femenino</td>\n      <td>fc-barcelona-femenino</td>\n      <td>Away</td>\n    </tr>\n    <tr>\n      <th>9</th>\n      <td>54</td>\n      <td>Entra</td>\n      <td>Uribe</td>\n      <td>levante-las-planas-femenino</td>\n      <td>fc-barcelona-femenino</td>\n      <td>Away</td>\n    </tr>\n    <tr>\n      <th>10</th>\n      <td>46</td>\n      <td>Sale</td>\n      <td>Nuria</td>\n      <td>levante-las-planas-femenino</td>\n      <td>fc-barcelona-femenino</td>\n      <td>Away</td>\n    </tr>\n    <tr>\n      <th>11</th>\n      <td>46</td>\n      <td>Entra</td>\n      <td>Parera</td>\n      <td>levante-las-planas-femenino</td>\n      <td>fc-barcelona-femenino</td>\n      <td>Away</td>\n    </tr>\n    <tr>\n      <th>12</th>\n      <td>27</td>\n      <td>Tarjeta amarilla</td>\n      <td>Chikwelu</td>\n      <td>levante-las-planas-femenino</td>\n      <td>fc-barcelona-femenino</td>\n      <td>Away</td>\n    </tr>\n  </tbody>\n</table>\n</div>"
     },
     "execution_count": 20,
     "metadata": {},
     "output_type": "execute_result"
    }
   ],
   "source": [
    "df = pd.DataFrame(columns=[\"Min\", \"Event\", \"Player\", \"Team\", \"Against\", \"Home/Away\"])\n",
    "scrapper(df, \"https://ligaf.es/partido/fc-barcelona-femenino/levante-las-planas-femenino/2023309436/eventos\")"
   ],
   "metadata": {
    "collapsed": false
   }
  },
  {
   "cell_type": "markdown",
   "source": [
    "#### Example of a whole team's season"
   ],
   "metadata": {
    "collapsed": false
   }
  },
  {
   "cell_type": "code",
   "execution_count": 21,
   "outputs": [
    {
     "data": {
      "text/plain": "   Min  Event     Player                   Team                Against  \\\n0   63  Entra      López  fc-barcelona-femenino     sc-huelva-femenino   \n1   63   Sale      Geyse  fc-barcelona-femenino     sc-huelva-femenino   \n2   63   Sale   Vilamala  fc-barcelona-femenino     sc-huelva-femenino   \n3   63  Entra    Oshoala  fc-barcelona-femenino     sc-huelva-femenino   \n4   63    Gol  Fernández  fc-barcelona-femenino     sc-huelva-femenino   \n..  ..    ...        ...                    ...                    ...   \n1   69   Sale     Vargas     sc-huelva-femenino  fc-barcelona-femenino   \n2   69  Entra      López     sc-huelva-femenino  fc-barcelona-femenino   \n3   69   Sale        Rós     sc-huelva-femenino  fc-barcelona-femenino   \n4   46   Sale     Romero     sc-huelva-femenino  fc-barcelona-femenino   \n5   46  Entra     Edgren     sc-huelva-femenino  fc-barcelona-femenino   \n\n   Home/Away  \n0       Home  \n1       Home  \n2       Home  \n3       Home  \n4       Home  \n..       ...  \n1       Away  \n2       Away  \n3       Away  \n4       Away  \n5       Away  \n\n[780 rows x 6 columns]",
      "text/html": "<div>\n<style scoped>\n    .dataframe tbody tr th:only-of-type {\n        vertical-align: middle;\n    }\n\n    .dataframe tbody tr th {\n        vertical-align: top;\n    }\n\n    .dataframe thead th {\n        text-align: right;\n    }\n</style>\n<table border=\"1\" class=\"dataframe\">\n  <thead>\n    <tr style=\"text-align: right;\">\n      <th></th>\n      <th>Min</th>\n      <th>Event</th>\n      <th>Player</th>\n      <th>Team</th>\n      <th>Against</th>\n      <th>Home/Away</th>\n    </tr>\n  </thead>\n  <tbody>\n    <tr>\n      <th>0</th>\n      <td>63</td>\n      <td>Entra</td>\n      <td>López</td>\n      <td>fc-barcelona-femenino</td>\n      <td>sc-huelva-femenino</td>\n      <td>Home</td>\n    </tr>\n    <tr>\n      <th>1</th>\n      <td>63</td>\n      <td>Sale</td>\n      <td>Geyse</td>\n      <td>fc-barcelona-femenino</td>\n      <td>sc-huelva-femenino</td>\n      <td>Home</td>\n    </tr>\n    <tr>\n      <th>2</th>\n      <td>63</td>\n      <td>Sale</td>\n      <td>Vilamala</td>\n      <td>fc-barcelona-femenino</td>\n      <td>sc-huelva-femenino</td>\n      <td>Home</td>\n    </tr>\n    <tr>\n      <th>3</th>\n      <td>63</td>\n      <td>Entra</td>\n      <td>Oshoala</td>\n      <td>fc-barcelona-femenino</td>\n      <td>sc-huelva-femenino</td>\n      <td>Home</td>\n    </tr>\n    <tr>\n      <th>4</th>\n      <td>63</td>\n      <td>Gol</td>\n      <td>Fernández</td>\n      <td>fc-barcelona-femenino</td>\n      <td>sc-huelva-femenino</td>\n      <td>Home</td>\n    </tr>\n    <tr>\n      <th>...</th>\n      <td>...</td>\n      <td>...</td>\n      <td>...</td>\n      <td>...</td>\n      <td>...</td>\n      <td>...</td>\n    </tr>\n    <tr>\n      <th>1</th>\n      <td>69</td>\n      <td>Sale</td>\n      <td>Vargas</td>\n      <td>sc-huelva-femenino</td>\n      <td>fc-barcelona-femenino</td>\n      <td>Away</td>\n    </tr>\n    <tr>\n      <th>2</th>\n      <td>69</td>\n      <td>Entra</td>\n      <td>López</td>\n      <td>sc-huelva-femenino</td>\n      <td>fc-barcelona-femenino</td>\n      <td>Away</td>\n    </tr>\n    <tr>\n      <th>3</th>\n      <td>69</td>\n      <td>Sale</td>\n      <td>Rós</td>\n      <td>sc-huelva-femenino</td>\n      <td>fc-barcelona-femenino</td>\n      <td>Away</td>\n    </tr>\n    <tr>\n      <th>4</th>\n      <td>46</td>\n      <td>Sale</td>\n      <td>Romero</td>\n      <td>sc-huelva-femenino</td>\n      <td>fc-barcelona-femenino</td>\n      <td>Away</td>\n    </tr>\n    <tr>\n      <th>5</th>\n      <td>46</td>\n      <td>Entra</td>\n      <td>Edgren</td>\n      <td>sc-huelva-femenino</td>\n      <td>fc-barcelona-femenino</td>\n      <td>Away</td>\n    </tr>\n  </tbody>\n</table>\n<p>780 rows × 6 columns</p>\n</div>"
     },
     "execution_count": 21,
     "metadata": {},
     "output_type": "execute_result"
    }
   ],
   "source": [
    "page = requests.get(\"https://ligaf.es/equipo/fc-barcelona-femenino/8852/resultados/2023\", verify=False)\n",
    "soup = BeautifulSoup(page.content, \"html.parser\")\n",
    "links = soup.find_all('a', {\"class\":\"match-box ta-c\"})\n",
    "df = pd.DataFrame(columns=[\"Min\", \"Event\", \"Player\", \"Team\", \"Against\", \"Home/Away\"])\n",
    "\n",
    "for link in links:\n",
    "        url = \"https://ligaf.es\" + str(link).split('\"')[3] + \"/eventos\"\n",
    "        #print(url)\n",
    "        df = scrapper(df, url)\n",
    "\n",
    "df"
   ],
   "metadata": {
    "collapsed": false
   }
  },
  {
   "cell_type": "markdown",
   "source": [
    "#### Goals by a specific player"
   ],
   "metadata": {
    "collapsed": false
   }
  },
  {
   "cell_type": "code",
   "execution_count": 22,
   "outputs": [
    {
     "data": {
      "text/plain": "   Min Event   Player                   Team                       Against  \\\n16  48   Gol  Oshoala  fc-barcelona-femenino         villareal-cf-femenino   \n15  26   Gol  Oshoala  fc-barcelona-femenino   levante-las-planas-femenino   \n21  12   Gol  Oshoala  fc-barcelona-femenino     deportivo-alaves-femenino   \n1   86   Gol  Oshoala  fc-barcelona-femenino            alhama-cf-femenino   \n19  11   Gol  Oshoala  fc-barcelona-femenino       sevilla-fc-femenino-esp   \n13  57   Gol  Oshoala  fc-barcelona-femenino            sc-huelva-femenino   \n16  21   Gol  Oshoala  fc-barcelona-femenino            sc-huelva-femenino   \n5   63   Gol  Oshoala  fc-barcelona-femenino   levante-las-planas-femenino   \n8   56   Gol  Oshoala  fc-barcelona-femenino   levante-las-planas-femenino   \n18  25   Gol  Oshoala  fc-barcelona-femenino   levante-las-planas-femenino   \n14  27   Gol  Oshoala  fc-barcelona-femenino                 udg_tenerife_   \n16  12   Gol  Oshoala  fc-barcelona-femenino                 udg_tenerife_   \n17   7   Gol  Oshoala  fc-barcelona-femenino                 udg_tenerife_   \n15  15   Gol  Oshoala  fc-barcelona-femenino          valencia-cf-femenino   \n1   92   Gol  Oshoala  fc-barcelona-femenino  real-betis-balompie-femenino   \n4   77   Gol  Oshoala  fc-barcelona-femenino  real-betis-balompie-femenino   \n11  61   Gol  Oshoala  fc-barcelona-femenino  real-betis-balompie-femenino   \n16  33   Gol  Oshoala  fc-barcelona-femenino     deportivo-alaves-femenino   \n19  21   Gol  Oshoala  fc-barcelona-femenino         villareal-cf-femenino   \n\n   Home/Away  \n16      Away  \n15      Away  \n21      Home  \n1       Home  \n19      Home  \n13      Away  \n16      Away  \n5       Home  \n8       Home  \n18      Home  \n14      Away  \n16      Away  \n17      Away  \n15      Away  \n1       Home  \n4       Home  \n11      Home  \n16      Away  \n19      Home  ",
      "text/html": "<div>\n<style scoped>\n    .dataframe tbody tr th:only-of-type {\n        vertical-align: middle;\n    }\n\n    .dataframe tbody tr th {\n        vertical-align: top;\n    }\n\n    .dataframe thead th {\n        text-align: right;\n    }\n</style>\n<table border=\"1\" class=\"dataframe\">\n  <thead>\n    <tr style=\"text-align: right;\">\n      <th></th>\n      <th>Min</th>\n      <th>Event</th>\n      <th>Player</th>\n      <th>Team</th>\n      <th>Against</th>\n      <th>Home/Away</th>\n    </tr>\n  </thead>\n  <tbody>\n    <tr>\n      <th>16</th>\n      <td>48</td>\n      <td>Gol</td>\n      <td>Oshoala</td>\n      <td>fc-barcelona-femenino</td>\n      <td>villareal-cf-femenino</td>\n      <td>Away</td>\n    </tr>\n    <tr>\n      <th>15</th>\n      <td>26</td>\n      <td>Gol</td>\n      <td>Oshoala</td>\n      <td>fc-barcelona-femenino</td>\n      <td>levante-las-planas-femenino</td>\n      <td>Away</td>\n    </tr>\n    <tr>\n      <th>21</th>\n      <td>12</td>\n      <td>Gol</td>\n      <td>Oshoala</td>\n      <td>fc-barcelona-femenino</td>\n      <td>deportivo-alaves-femenino</td>\n      <td>Home</td>\n    </tr>\n    <tr>\n      <th>1</th>\n      <td>86</td>\n      <td>Gol</td>\n      <td>Oshoala</td>\n      <td>fc-barcelona-femenino</td>\n      <td>alhama-cf-femenino</td>\n      <td>Home</td>\n    </tr>\n    <tr>\n      <th>19</th>\n      <td>11</td>\n      <td>Gol</td>\n      <td>Oshoala</td>\n      <td>fc-barcelona-femenino</td>\n      <td>sevilla-fc-femenino-esp</td>\n      <td>Home</td>\n    </tr>\n    <tr>\n      <th>13</th>\n      <td>57</td>\n      <td>Gol</td>\n      <td>Oshoala</td>\n      <td>fc-barcelona-femenino</td>\n      <td>sc-huelva-femenino</td>\n      <td>Away</td>\n    </tr>\n    <tr>\n      <th>16</th>\n      <td>21</td>\n      <td>Gol</td>\n      <td>Oshoala</td>\n      <td>fc-barcelona-femenino</td>\n      <td>sc-huelva-femenino</td>\n      <td>Away</td>\n    </tr>\n    <tr>\n      <th>5</th>\n      <td>63</td>\n      <td>Gol</td>\n      <td>Oshoala</td>\n      <td>fc-barcelona-femenino</td>\n      <td>levante-las-planas-femenino</td>\n      <td>Home</td>\n    </tr>\n    <tr>\n      <th>8</th>\n      <td>56</td>\n      <td>Gol</td>\n      <td>Oshoala</td>\n      <td>fc-barcelona-femenino</td>\n      <td>levante-las-planas-femenino</td>\n      <td>Home</td>\n    </tr>\n    <tr>\n      <th>18</th>\n      <td>25</td>\n      <td>Gol</td>\n      <td>Oshoala</td>\n      <td>fc-barcelona-femenino</td>\n      <td>levante-las-planas-femenino</td>\n      <td>Home</td>\n    </tr>\n    <tr>\n      <th>14</th>\n      <td>27</td>\n      <td>Gol</td>\n      <td>Oshoala</td>\n      <td>fc-barcelona-femenino</td>\n      <td>udg_tenerife_</td>\n      <td>Away</td>\n    </tr>\n    <tr>\n      <th>16</th>\n      <td>12</td>\n      <td>Gol</td>\n      <td>Oshoala</td>\n      <td>fc-barcelona-femenino</td>\n      <td>udg_tenerife_</td>\n      <td>Away</td>\n    </tr>\n    <tr>\n      <th>17</th>\n      <td>7</td>\n      <td>Gol</td>\n      <td>Oshoala</td>\n      <td>fc-barcelona-femenino</td>\n      <td>udg_tenerife_</td>\n      <td>Away</td>\n    </tr>\n    <tr>\n      <th>15</th>\n      <td>15</td>\n      <td>Gol</td>\n      <td>Oshoala</td>\n      <td>fc-barcelona-femenino</td>\n      <td>valencia-cf-femenino</td>\n      <td>Away</td>\n    </tr>\n    <tr>\n      <th>1</th>\n      <td>92</td>\n      <td>Gol</td>\n      <td>Oshoala</td>\n      <td>fc-barcelona-femenino</td>\n      <td>real-betis-balompie-femenino</td>\n      <td>Home</td>\n    </tr>\n    <tr>\n      <th>4</th>\n      <td>77</td>\n      <td>Gol</td>\n      <td>Oshoala</td>\n      <td>fc-barcelona-femenino</td>\n      <td>real-betis-balompie-femenino</td>\n      <td>Home</td>\n    </tr>\n    <tr>\n      <th>11</th>\n      <td>61</td>\n      <td>Gol</td>\n      <td>Oshoala</td>\n      <td>fc-barcelona-femenino</td>\n      <td>real-betis-balompie-femenino</td>\n      <td>Home</td>\n    </tr>\n    <tr>\n      <th>16</th>\n      <td>33</td>\n      <td>Gol</td>\n      <td>Oshoala</td>\n      <td>fc-barcelona-femenino</td>\n      <td>deportivo-alaves-femenino</td>\n      <td>Away</td>\n    </tr>\n    <tr>\n      <th>19</th>\n      <td>21</td>\n      <td>Gol</td>\n      <td>Oshoala</td>\n      <td>fc-barcelona-femenino</td>\n      <td>villareal-cf-femenino</td>\n      <td>Home</td>\n    </tr>\n  </tbody>\n</table>\n</div>"
     },
     "execution_count": 22,
     "metadata": {},
     "output_type": "execute_result"
    }
   ],
   "source": [
    "df.loc[(df[\"Event\"]==\"Gol\") & (df[\"Player\"]==\"Oshoala\")]"
   ],
   "metadata": {
    "collapsed": false
   }
  },
  {
   "cell_type": "markdown",
   "source": [
    "#### Goals count by player of a team"
   ],
   "metadata": {
    "collapsed": false
   }
  },
  {
   "cell_type": "code",
   "execution_count": 23,
   "outputs": [
    {
     "data": {
      "text/plain": "Oshoala         19\nParalluelo      11\nPina            10\nAitana           9\nRolfö            9\nHansen           8\nCrnogorcevic     7\nGeyse            6\nMariona          6\nMapi             3\nBronze           3\nGuijarro         2\nLópez            2\nTorrejón         2\nFernández        2\nEngen            2\nCodina           2\nParedes          1\nVilamala         1\nWalsh            1\nName: Player, dtype: int64"
     },
     "execution_count": 23,
     "metadata": {},
     "output_type": "execute_result"
    }
   ],
   "source": [
    "df.loc[(df[\"Event\"]==\"Gol\") & (df[\"Team\"]==\"fc-barcelona-femenino\")][\"Player\"].value_counts()"
   ],
   "metadata": {
    "collapsed": false
   }
  }
 ],
 "metadata": {
  "kernelspec": {
   "display_name": "Python 3",
   "language": "python",
   "name": "python3"
  },
  "language_info": {
   "codemirror_mode": {
    "name": "ipython",
    "version": 2
   },
   "file_extension": ".py",
   "mimetype": "text/x-python",
   "name": "python",
   "nbconvert_exporter": "python",
   "pygments_lexer": "ipython2",
   "version": "2.7.6"
  }
 },
 "nbformat": 4,
 "nbformat_minor": 0
}

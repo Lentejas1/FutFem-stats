{
 "cells": [
  {
   "cell_type": "code",
   "execution_count": 1,
   "metadata": {
    "collapsed": true,
    "pycharm": {
     "name": "#%%\n"
    }
   },
   "outputs": [],
   "source": [
    "import requests\n",
    "import pandas as pd\n",
    "from bs4 import BeautifulSoup"
   ]
  },
  {
   "cell_type": "code",
   "execution_count": 135,
   "outputs": [
    {
     "name": "stderr",
     "output_type": "stream",
     "text": [
      "C:\\Users\\minih\\Documents\\GitHub\\FutFem-stats\\venv\\lib\\site-packages\\urllib3\\connectionpool.py:1045: InsecureRequestWarning: Unverified HTTPS request is being made to host 'ligaf.es'. Adding certificate verification is strongly advised. See: https://urllib3.readthedocs.io/en/1.26.x/advanced-usage.html#ssl-warnings\n",
      "  warnings.warn(\n",
      "C:\\Users\\minih\\AppData\\Local\\Temp\\ipykernel_20540\\4160347856.py:47: FutureWarning: The frame.append method is deprecated and will be removed from pandas in a future version. Use pandas.concat instead.\n",
      "  df_local = df.append({\"Min\": minute, \"Event\": event_type, \"Player\": player, \"Team\": local, \"Against\": visitor, \"Home/Away\": \"Home\"}, ignore_index=True)\n",
      "C:\\Users\\minih\\AppData\\Local\\Temp\\ipykernel_20540\\4160347856.py:47: FutureWarning: The frame.append method is deprecated and will be removed from pandas in a future version. Use pandas.concat instead.\n",
      "  df_local = df.append({\"Min\": minute, \"Event\": event_type, \"Player\": player, \"Team\": local, \"Against\": visitor, \"Home/Away\": \"Home\"}, ignore_index=True)\n",
      "C:\\Users\\minih\\AppData\\Local\\Temp\\ipykernel_20540\\4160347856.py:47: FutureWarning: The frame.append method is deprecated and will be removed from pandas in a future version. Use pandas.concat instead.\n",
      "  df_local = df.append({\"Min\": minute, \"Event\": event_type, \"Player\": player, \"Team\": local, \"Against\": visitor, \"Home/Away\": \"Home\"}, ignore_index=True)\n",
      "C:\\Users\\minih\\AppData\\Local\\Temp\\ipykernel_20540\\4160347856.py:47: FutureWarning: The frame.append method is deprecated and will be removed from pandas in a future version. Use pandas.concat instead.\n",
      "  df_local = df.append({\"Min\": minute, \"Event\": event_type, \"Player\": player, \"Team\": local, \"Against\": visitor, \"Home/Away\": \"Home\"}, ignore_index=True)\n",
      "C:\\Users\\minih\\AppData\\Local\\Temp\\ipykernel_20540\\4160347856.py:47: FutureWarning: The frame.append method is deprecated and will be removed from pandas in a future version. Use pandas.concat instead.\n",
      "  df_local = df.append({\"Min\": minute, \"Event\": event_type, \"Player\": player, \"Team\": local, \"Against\": visitor, \"Home/Away\": \"Home\"}, ignore_index=True)\n",
      "C:\\Users\\minih\\AppData\\Local\\Temp\\ipykernel_20540\\4160347856.py:47: FutureWarning: The frame.append method is deprecated and will be removed from pandas in a future version. Use pandas.concat instead.\n",
      "  df_local = df.append({\"Min\": minute, \"Event\": event_type, \"Player\": player, \"Team\": local, \"Against\": visitor, \"Home/Away\": \"Home\"}, ignore_index=True)\n",
      "C:\\Users\\minih\\AppData\\Local\\Temp\\ipykernel_20540\\4160347856.py:47: FutureWarning: The frame.append method is deprecated and will be removed from pandas in a future version. Use pandas.concat instead.\n",
      "  df_local = df.append({\"Min\": minute, \"Event\": event_type, \"Player\": player, \"Team\": local, \"Against\": visitor, \"Home/Away\": \"Home\"}, ignore_index=True)\n",
      "C:\\Users\\minih\\AppData\\Local\\Temp\\ipykernel_20540\\4160347856.py:47: FutureWarning: The frame.append method is deprecated and will be removed from pandas in a future version. Use pandas.concat instead.\n",
      "  df_local = df.append({\"Min\": minute, \"Event\": event_type, \"Player\": player, \"Team\": local, \"Against\": visitor, \"Home/Away\": \"Home\"}, ignore_index=True)\n",
      "C:\\Users\\minih\\AppData\\Local\\Temp\\ipykernel_20540\\4160347856.py:47: FutureWarning: The frame.append method is deprecated and will be removed from pandas in a future version. Use pandas.concat instead.\n",
      "  df_local = df.append({\"Min\": minute, \"Event\": event_type, \"Player\": player, \"Team\": local, \"Against\": visitor, \"Home/Away\": \"Home\"}, ignore_index=True)\n",
      "C:\\Users\\minih\\AppData\\Local\\Temp\\ipykernel_20540\\4160347856.py:47: FutureWarning: The frame.append method is deprecated and will be removed from pandas in a future version. Use pandas.concat instead.\n",
      "  df_local = df.append({\"Min\": minute, \"Event\": event_type, \"Player\": player, \"Team\": local, \"Against\": visitor, \"Home/Away\": \"Home\"}, ignore_index=True)\n",
      "C:\\Users\\minih\\AppData\\Local\\Temp\\ipykernel_20540\\4160347856.py:47: FutureWarning: The frame.append method is deprecated and will be removed from pandas in a future version. Use pandas.concat instead.\n",
      "  df_local = df.append({\"Min\": minute, \"Event\": event_type, \"Player\": player, \"Team\": local, \"Against\": visitor, \"Home/Away\": \"Home\"}, ignore_index=True)\n",
      "C:\\Users\\minih\\AppData\\Local\\Temp\\ipykernel_20540\\4160347856.py:47: FutureWarning: The frame.append method is deprecated and will be removed from pandas in a future version. Use pandas.concat instead.\n",
      "  df_local = df.append({\"Min\": minute, \"Event\": event_type, \"Player\": player, \"Team\": local, \"Against\": visitor, \"Home/Away\": \"Home\"}, ignore_index=True)\n",
      "C:\\Users\\minih\\AppData\\Local\\Temp\\ipykernel_20540\\4160347856.py:47: FutureWarning: The frame.append method is deprecated and will be removed from pandas in a future version. Use pandas.concat instead.\n",
      "  df_local = df.append({\"Min\": minute, \"Event\": event_type, \"Player\": player, \"Team\": local, \"Against\": visitor, \"Home/Away\": \"Home\"}, ignore_index=True)\n",
      "C:\\Users\\minih\\AppData\\Local\\Temp\\ipykernel_20540\\4160347856.py:84: FutureWarning: The frame.append method is deprecated and will be removed from pandas in a future version. Use pandas.concat instead.\n",
      "  df_visitor = df.append({\"Min\": minute, \"Event\": event_type, \"Player\": player, \"Team\": visitor, \"Against\": local, \"Home/Away\": \"Away\"}, ignore_index=True)\n",
      "C:\\Users\\minih\\AppData\\Local\\Temp\\ipykernel_20540\\4160347856.py:84: FutureWarning: The frame.append method is deprecated and will be removed from pandas in a future version. Use pandas.concat instead.\n",
      "  df_visitor = df.append({\"Min\": minute, \"Event\": event_type, \"Player\": player, \"Team\": visitor, \"Against\": local, \"Home/Away\": \"Away\"}, ignore_index=True)\n",
      "C:\\Users\\minih\\AppData\\Local\\Temp\\ipykernel_20540\\4160347856.py:84: FutureWarning: The frame.append method is deprecated and will be removed from pandas in a future version. Use pandas.concat instead.\n",
      "  df_visitor = df.append({\"Min\": minute, \"Event\": event_type, \"Player\": player, \"Team\": visitor, \"Against\": local, \"Home/Away\": \"Away\"}, ignore_index=True)\n",
      "C:\\Users\\minih\\AppData\\Local\\Temp\\ipykernel_20540\\4160347856.py:84: FutureWarning: The frame.append method is deprecated and will be removed from pandas in a future version. Use pandas.concat instead.\n",
      "  df_visitor = df.append({\"Min\": minute, \"Event\": event_type, \"Player\": player, \"Team\": visitor, \"Against\": local, \"Home/Away\": \"Away\"}, ignore_index=True)\n",
      "C:\\Users\\minih\\AppData\\Local\\Temp\\ipykernel_20540\\4160347856.py:84: FutureWarning: The frame.append method is deprecated and will be removed from pandas in a future version. Use pandas.concat instead.\n",
      "  df_visitor = df.append({\"Min\": minute, \"Event\": event_type, \"Player\": player, \"Team\": visitor, \"Against\": local, \"Home/Away\": \"Away\"}, ignore_index=True)\n",
      "C:\\Users\\minih\\AppData\\Local\\Temp\\ipykernel_20540\\4160347856.py:84: FutureWarning: The frame.append method is deprecated and will be removed from pandas in a future version. Use pandas.concat instead.\n",
      "  df_visitor = df.append({\"Min\": minute, \"Event\": event_type, \"Player\": player, \"Team\": visitor, \"Against\": local, \"Home/Away\": \"Away\"}, ignore_index=True)\n",
      "C:\\Users\\minih\\AppData\\Local\\Temp\\ipykernel_20540\\4160347856.py:84: FutureWarning: The frame.append method is deprecated and will be removed from pandas in a future version. Use pandas.concat instead.\n",
      "  df_visitor = df.append({\"Min\": minute, \"Event\": event_type, \"Player\": player, \"Team\": visitor, \"Against\": local, \"Home/Away\": \"Away\"}, ignore_index=True)\n",
      "C:\\Users\\minih\\AppData\\Local\\Temp\\ipykernel_20540\\4160347856.py:84: FutureWarning: The frame.append method is deprecated and will be removed from pandas in a future version. Use pandas.concat instead.\n",
      "  df_visitor = df.append({\"Min\": minute, \"Event\": event_type, \"Player\": player, \"Team\": visitor, \"Against\": local, \"Home/Away\": \"Away\"}, ignore_index=True)\n",
      "C:\\Users\\minih\\AppData\\Local\\Temp\\ipykernel_20540\\4160347856.py:84: FutureWarning: The frame.append method is deprecated and will be removed from pandas in a future version. Use pandas.concat instead.\n",
      "  df_visitor = df.append({\"Min\": minute, \"Event\": event_type, \"Player\": player, \"Team\": visitor, \"Against\": local, \"Home/Away\": \"Away\"}, ignore_index=True)\n",
      "C:\\Users\\minih\\AppData\\Local\\Temp\\ipykernel_20540\\4160347856.py:84: FutureWarning: The frame.append method is deprecated and will be removed from pandas in a future version. Use pandas.concat instead.\n",
      "  df_visitor = df.append({\"Min\": minute, \"Event\": event_type, \"Player\": player, \"Team\": visitor, \"Against\": local, \"Home/Away\": \"Away\"}, ignore_index=True)\n",
      "C:\\Users\\minih\\AppData\\Local\\Temp\\ipykernel_20540\\4160347856.py:84: FutureWarning: The frame.append method is deprecated and will be removed from pandas in a future version. Use pandas.concat instead.\n",
      "  df_visitor = df.append({\"Min\": minute, \"Event\": event_type, \"Player\": player, \"Team\": visitor, \"Against\": local, \"Home/Away\": \"Away\"}, ignore_index=True)\n",
      "C:\\Users\\minih\\AppData\\Local\\Temp\\ipykernel_20540\\4160347856.py:84: FutureWarning: The frame.append method is deprecated and will be removed from pandas in a future version. Use pandas.concat instead.\n",
      "  df_visitor = df.append({\"Min\": minute, \"Event\": event_type, \"Player\": player, \"Team\": visitor, \"Against\": local, \"Home/Away\": \"Away\"}, ignore_index=True)\n",
      "C:\\Users\\minih\\AppData\\Local\\Temp\\ipykernel_20540\\4160347856.py:84: FutureWarning: The frame.append method is deprecated and will be removed from pandas in a future version. Use pandas.concat instead.\n",
      "  df_visitor = df.append({\"Min\": minute, \"Event\": event_type, \"Player\": player, \"Team\": visitor, \"Against\": local, \"Home/Away\": \"Away\"}, ignore_index=True)\n",
      "C:\\Users\\minih\\AppData\\Local\\Temp\\ipykernel_20540\\4160347856.py:84: FutureWarning: The frame.append method is deprecated and will be removed from pandas in a future version. Use pandas.concat instead.\n",
      "  df_visitor = df.append({\"Min\": minute, \"Event\": event_type, \"Player\": player, \"Team\": visitor, \"Against\": local, \"Home/Away\": \"Away\"}, ignore_index=True)\n",
      "C:\\Users\\minih\\AppData\\Local\\Temp\\ipykernel_20540\\4160347856.py:84: FutureWarning: The frame.append method is deprecated and will be removed from pandas in a future version. Use pandas.concat instead.\n",
      "  df_visitor = df.append({\"Min\": minute, \"Event\": event_type, \"Player\": player, \"Team\": visitor, \"Against\": local, \"Home/Away\": \"Away\"}, ignore_index=True)\n",
      "C:\\Users\\minih\\AppData\\Local\\Temp\\ipykernel_20540\\4160347856.py:84: FutureWarning: The frame.append method is deprecated and will be removed from pandas in a future version. Use pandas.concat instead.\n",
      "  df_visitor = df.append({\"Min\": minute, \"Event\": event_type, \"Player\": player, \"Team\": visitor, \"Against\": local, \"Home/Away\": \"Away\"}, ignore_index=True)\n",
      "C:\\Users\\minih\\AppData\\Local\\Temp\\ipykernel_20540\\4160347856.py:84: FutureWarning: The frame.append method is deprecated and will be removed from pandas in a future version. Use pandas.concat instead.\n",
      "  df_visitor = df.append({\"Min\": minute, \"Event\": event_type, \"Player\": player, \"Team\": visitor, \"Against\": local, \"Home/Away\": \"Away\"}, ignore_index=True)\n",
      "C:\\Users\\minih\\AppData\\Local\\Temp\\ipykernel_20540\\4160347856.py:84: FutureWarning: The frame.append method is deprecated and will be removed from pandas in a future version. Use pandas.concat instead.\n",
      "  df_visitor = df.append({\"Min\": minute, \"Event\": event_type, \"Player\": player, \"Team\": visitor, \"Against\": local, \"Home/Away\": \"Away\"}, ignore_index=True)\n",
      "C:\\Users\\minih\\AppData\\Local\\Temp\\ipykernel_20540\\4160347856.py:84: FutureWarning: The frame.append method is deprecated and will be removed from pandas in a future version. Use pandas.concat instead.\n",
      "  df_visitor = df.append({\"Min\": minute, \"Event\": event_type, \"Player\": player, \"Team\": visitor, \"Against\": local, \"Home/Away\": \"Away\"}, ignore_index=True)\n",
      "C:\\Users\\minih\\AppData\\Local\\Temp\\ipykernel_20540\\4160347856.py:84: FutureWarning: The frame.append method is deprecated and will be removed from pandas in a future version. Use pandas.concat instead.\n",
      "  df_visitor = df.append({\"Min\": minute, \"Event\": event_type, \"Player\": player, \"Team\": visitor, \"Against\": local, \"Home/Away\": \"Away\"}, ignore_index=True)\n",
      "C:\\Users\\minih\\AppData\\Local\\Temp\\ipykernel_20540\\4160347856.py:84: FutureWarning: The frame.append method is deprecated and will be removed from pandas in a future version. Use pandas.concat instead.\n",
      "  df_visitor = df.append({\"Min\": minute, \"Event\": event_type, \"Player\": player, \"Team\": visitor, \"Against\": local, \"Home/Away\": \"Away\"}, ignore_index=True)\n",
      "C:\\Users\\minih\\AppData\\Local\\Temp\\ipykernel_20540\\4160347856.py:84: FutureWarning: The frame.append method is deprecated and will be removed from pandas in a future version. Use pandas.concat instead.\n",
      "  df_visitor = df.append({\"Min\": minute, \"Event\": event_type, \"Player\": player, \"Team\": visitor, \"Against\": local, \"Home/Away\": \"Away\"}, ignore_index=True)\n",
      "C:\\Users\\minih\\AppData\\Local\\Temp\\ipykernel_20540\\4160347856.py:84: FutureWarning: The frame.append method is deprecated and will be removed from pandas in a future version. Use pandas.concat instead.\n",
      "  df_visitor = df.append({\"Min\": minute, \"Event\": event_type, \"Player\": player, \"Team\": visitor, \"Against\": local, \"Home/Away\": \"Away\"}, ignore_index=True)\n",
      "C:\\Users\\minih\\AppData\\Local\\Temp\\ipykernel_20540\\4160347856.py:84: FutureWarning: The frame.append method is deprecated and will be removed from pandas in a future version. Use pandas.concat instead.\n",
      "  df_visitor = df.append({\"Min\": minute, \"Event\": event_type, \"Player\": player, \"Team\": visitor, \"Against\": local, \"Home/Away\": \"Away\"}, ignore_index=True)\n",
      "C:\\Users\\minih\\AppData\\Local\\Temp\\ipykernel_20540\\4160347856.py:84: FutureWarning: The frame.append method is deprecated and will be removed from pandas in a future version. Use pandas.concat instead.\n",
      "  df_visitor = df.append({\"Min\": minute, \"Event\": event_type, \"Player\": player, \"Team\": visitor, \"Against\": local, \"Home/Away\": \"Away\"}, ignore_index=True)\n",
      "C:\\Users\\minih\\AppData\\Local\\Temp\\ipykernel_20540\\4160347856.py:84: FutureWarning: The frame.append method is deprecated and will be removed from pandas in a future version. Use pandas.concat instead.\n",
      "  df_visitor = df.append({\"Min\": minute, \"Event\": event_type, \"Player\": player, \"Team\": visitor, \"Against\": local, \"Home/Away\": \"Away\"}, ignore_index=True)\n",
      "C:\\Users\\minih\\AppData\\Local\\Temp\\ipykernel_20540\\4160347856.py:84: FutureWarning: The frame.append method is deprecated and will be removed from pandas in a future version. Use pandas.concat instead.\n",
      "  df_visitor = df.append({\"Min\": minute, \"Event\": event_type, \"Player\": player, \"Team\": visitor, \"Against\": local, \"Home/Away\": \"Away\"}, ignore_index=True)\n",
      "C:\\Users\\minih\\AppData\\Local\\Temp\\ipykernel_20540\\4160347856.py:84: FutureWarning: The frame.append method is deprecated and will be removed from pandas in a future version. Use pandas.concat instead.\n",
      "  df_visitor = df.append({\"Min\": minute, \"Event\": event_type, \"Player\": player, \"Team\": visitor, \"Against\": local, \"Home/Away\": \"Away\"}, ignore_index=True)\n",
      "C:\\Users\\minih\\AppData\\Local\\Temp\\ipykernel_20540\\4160347856.py:84: FutureWarning: The frame.append method is deprecated and will be removed from pandas in a future version. Use pandas.concat instead.\n",
      "  df_visitor = df.append({\"Min\": minute, \"Event\": event_type, \"Player\": player, \"Team\": visitor, \"Against\": local, \"Home/Away\": \"Away\"}, ignore_index=True)\n",
      "C:\\Users\\minih\\AppData\\Local\\Temp\\ipykernel_20540\\4160347856.py:84: FutureWarning: The frame.append method is deprecated and will be removed from pandas in a future version. Use pandas.concat instead.\n",
      "  df_visitor = df.append({\"Min\": minute, \"Event\": event_type, \"Player\": player, \"Team\": visitor, \"Against\": local, \"Home/Away\": \"Away\"}, ignore_index=True)\n",
      "C:\\Users\\minih\\AppData\\Local\\Temp\\ipykernel_20540\\4160347856.py:84: FutureWarning: The frame.append method is deprecated and will be removed from pandas in a future version. Use pandas.concat instead.\n",
      "  df_visitor = df.append({\"Min\": minute, \"Event\": event_type, \"Player\": player, \"Team\": visitor, \"Against\": local, \"Home/Away\": \"Away\"}, ignore_index=True)\n"
     ]
    },
    {
     "data": {
      "text/plain": "  Min  Event Player                   Team                Against Home/Away\n0  46  Entra  Fatou  villareal-cf-femenino  fc-barcelona-femenino      Home\n0  26    Gol   Mapi  fc-barcelona-femenino  villareal-cf-femenino      Away",
      "text/html": "<div>\n<style scoped>\n    .dataframe tbody tr th:only-of-type {\n        vertical-align: middle;\n    }\n\n    .dataframe tbody tr th {\n        vertical-align: top;\n    }\n\n    .dataframe thead th {\n        text-align: right;\n    }\n</style>\n<table border=\"1\" class=\"dataframe\">\n  <thead>\n    <tr style=\"text-align: right;\">\n      <th></th>\n      <th>Min</th>\n      <th>Event</th>\n      <th>Player</th>\n      <th>Team</th>\n      <th>Against</th>\n      <th>Home/Away</th>\n    </tr>\n  </thead>\n  <tbody>\n    <tr>\n      <th>0</th>\n      <td>46</td>\n      <td>Entra</td>\n      <td>Fatou</td>\n      <td>villareal-cf-femenino</td>\n      <td>fc-barcelona-femenino</td>\n      <td>Home</td>\n    </tr>\n    <tr>\n      <th>0</th>\n      <td>26</td>\n      <td>Gol</td>\n      <td>Mapi</td>\n      <td>fc-barcelona-femenino</td>\n      <td>villareal-cf-femenino</td>\n      <td>Away</td>\n    </tr>\n  </tbody>\n</table>\n</div>"
     },
     "execution_count": 135,
     "metadata": {},
     "output_type": "execute_result"
    }
   ],
   "source": [
    "url = \"https://ligaf.es/partido/villareal-cf-femenino/fc-barcelona-femenino/2023309307/eventos\"\n",
    "\n",
    "def scrapper(url):\n",
    "    page = requests.get(url, verify=False)\n",
    "    soup = BeautifulSoup(page.content, \"html.parser\")\n",
    "    txt = soup.find_all('div', {'class' : 'team local pr mb10'})\n",
    "    df_local = pd.DataFrame(columns=[\"Min\", \"Event\", \"Player\", \"Team\", \"Against\", \"Home/Away\"])\n",
    "    df_visitor = pd.DataFrame(columns=[\"Min\", \"Event\", \"Player\", \"Team\", \"Against\", \"Home/Away\"])\n",
    "\n",
    "    data = []\n",
    "\n",
    "    local = url.split(\"/\")[4]\n",
    "    visitor = url.split(\"/\")[5]\n",
    "    for i in range(len(txt)):\n",
    "        plchldr = txt[i].get_text('\\t').split()\n",
    "        while \"\" in plchldr:\n",
    "            plchldr.replace(\" \", \"\")\n",
    "        data.append(plchldr)\n",
    "\n",
    "    for i in range(len(data)):\n",
    "        ind = i\n",
    "        possible_events = [\"Gol\", \"puerta\", \"Asistencia\", \"Entra\", \"Sale\", \"Amarilla\", \"Roja\", \"Lesionado\"]\n",
    "        while True:\n",
    "            try:\n",
    "                minute = int(data[ind][0].replace(\"'\", \"\"))\n",
    "                break\n",
    "            except:\n",
    "                ind -= 1\n",
    "                pass\n",
    "        for j in range(len(data[i])):\n",
    "                for event in possible_events:\n",
    "                    if data[i][j] == event:\n",
    "                        if event == \"puerta\":\n",
    "                            event_type = \"Gol en propia puerta\"\n",
    "                            player =  data[i][j-4]\n",
    "                        elif event == \"Amarilla\":\n",
    "                            event_type = \"Tarjeta amarilla\"\n",
    "                            player = data[i][j-2]\n",
    "                        elif event == \"Roja\":\n",
    "                            event_type = \"Tarjeta roja\"\n",
    "                            player = data[i][j-2]\n",
    "                        elif event == \"Lesionado\":\n",
    "                            event_type = \"Lesionada\"\n",
    "                        else:\n",
    "                            event_type = event\n",
    "                            player =  data[i][j-1]\n",
    "        df_local = df.append({\"Min\": minute, \"Event\": event_type, \"Player\": player, \"Team\": local, \"Against\": visitor, \"Home/Away\": \"Home\"}, ignore_index=True)\n",
    "\n",
    "    txt = soup.find_all('div', {'class' : 'team visitor pr mb10'})\n",
    "\n",
    "    for i in range(len(txt)):\n",
    "        plchldr = txt[i].get_text('\\t').split()\n",
    "        while \"\" in plchldr:\n",
    "            plchldr.replace(\" \", \"\")\n",
    "        data.append(plchldr)\n",
    "\n",
    "    for i in range(len(data)):\n",
    "        ind = i\n",
    "        possible_events = [\"Gol\", \"puerta\", \"Asistencia\", \"Entra\", \"Sale\", \"Amarilla\", \"Roja\", \"Lesionado\"]\n",
    "        while True:\n",
    "            try:\n",
    "                minute = int(data[ind][0].replace(\"'\", \"\"))\n",
    "                break\n",
    "            except:\n",
    "                ind -= 1\n",
    "                pass\n",
    "        for j in range(len(data[i])):\n",
    "                for event in possible_events:\n",
    "                    if data[i][j] == event:\n",
    "                        if event == \"puerta\":\n",
    "                            event_type = \"Gol en propia puerta\"\n",
    "                            player =  data[i][j-4]\n",
    "                        elif event == \"Amarilla\":\n",
    "                            event_type = \"Tarjeta amarilla\"\n",
    "                            player = data[i][j-2]\n",
    "                        elif event == \"Roja\":\n",
    "                            event_type = \"Tarjeta roja\"\n",
    "                            player = data[i][j-2]\n",
    "                        elif event == \"Lesionado\":\n",
    "                            event_type = \"Lesionada\"\n",
    "                        else:\n",
    "                            event_type = event\n",
    "                            player =  data[i][j-1]\n",
    "        df_visitor = df.append({\"Min\": minute, \"Event\": event_type, \"Player\": player, \"Team\": visitor, \"Against\": local, \"Home/Away\": \"Away\"}, ignore_index=True)\n",
    "    return pd.concat([df_local, df_visitor])\n",
    "df = scrapper(url)\n",
    "df"
   ],
   "metadata": {
    "collapsed": false,
    "pycharm": {
     "name": "#%%\n"
    }
   }
  },
  {
   "cell_type": "code",
   "execution_count": 136,
   "outputs": [
    {
     "name": "stderr",
     "output_type": "stream",
     "text": [
      "C:\\Users\\minih\\Documents\\GitHub\\FutFem-stats\\venv\\lib\\site-packages\\urllib3\\connectionpool.py:1045: InsecureRequestWarning: Unverified HTTPS request is being made to host 'ligaf.es'. Adding certificate verification is strongly advised. See: https://urllib3.readthedocs.io/en/1.26.x/advanced-usage.html#ssl-warnings\n",
      "  warnings.warn(\n"
     ]
    },
    {
     "name": "stdout",
     "output_type": "stream",
     "text": [
      "https://ligaf.es//partido/deportivo-alaves-femenino/fc-barcelona-femenino/2023309722\n"
     ]
    },
    {
     "name": "stderr",
     "output_type": "stream",
     "text": [
      "C:\\Users\\minih\\Documents\\GitHub\\FutFem-stats\\venv\\lib\\site-packages\\urllib3\\connectionpool.py:1045: InsecureRequestWarning: Unverified HTTPS request is being made to host 'ligaf.es'. Adding certificate verification is strongly advised. See: https://urllib3.readthedocs.io/en/1.26.x/advanced-usage.html#ssl-warnings\n",
      "  warnings.warn(\n"
     ]
    },
    {
     "name": "stdout",
     "output_type": "stream",
     "text": [
      "Empty DataFrame\n",
      "Columns: [Min, Event, Player, Team, Against, Home/Away]\n",
      "Index: []\n",
      "https://ligaf.es//partido/fc-barcelona-femenino/udg_tenerife_/2023309302\n"
     ]
    },
    {
     "name": "stderr",
     "output_type": "stream",
     "text": [
      "C:\\Users\\minih\\Documents\\GitHub\\FutFem-stats\\venv\\lib\\site-packages\\urllib3\\connectionpool.py:1045: InsecureRequestWarning: Unverified HTTPS request is being made to host 'ligaf.es'. Adding certificate verification is strongly advised. See: https://urllib3.readthedocs.io/en/1.26.x/advanced-usage.html#ssl-warnings\n",
      "  warnings.warn(\n"
     ]
    },
    {
     "name": "stdout",
     "output_type": "stream",
     "text": [
      "Empty DataFrame\n",
      "Columns: [Min, Event, Player, Team, Against, Home/Away]\n",
      "Index: []\n",
      "https://ligaf.es//partido/villareal-cf-femenino/fc-barcelona-femenino/2023309307\n"
     ]
    },
    {
     "name": "stderr",
     "output_type": "stream",
     "text": [
      "C:\\Users\\minih\\Documents\\GitHub\\FutFem-stats\\venv\\lib\\site-packages\\urllib3\\connectionpool.py:1045: InsecureRequestWarning: Unverified HTTPS request is being made to host 'ligaf.es'. Adding certificate verification is strongly advised. See: https://urllib3.readthedocs.io/en/1.26.x/advanced-usage.html#ssl-warnings\n",
      "  warnings.warn(\n"
     ]
    },
    {
     "name": "stdout",
     "output_type": "stream",
     "text": [
      "Empty DataFrame\n",
      "Columns: [Min, Event, Player, Team, Against, Home/Away]\n",
      "Index: []\n",
      "https://ligaf.es//partido/fc-barcelona-femenino/madrid-cf-femenino/2023309337\n"
     ]
    },
    {
     "name": "stderr",
     "output_type": "stream",
     "text": [
      "C:\\Users\\minih\\Documents\\GitHub\\FutFem-stats\\venv\\lib\\site-packages\\urllib3\\connectionpool.py:1045: InsecureRequestWarning: Unverified HTTPS request is being made to host 'ligaf.es'. Adding certificate verification is strongly advised. See: https://urllib3.readthedocs.io/en/1.26.x/advanced-usage.html#ssl-warnings\n",
      "  warnings.warn(\n"
     ]
    },
    {
     "name": "stdout",
     "output_type": "stream",
     "text": [
      "Empty DataFrame\n",
      "Columns: [Min, Event, Player, Team, Against, Home/Away]\n",
      "Index: []\n",
      "https://ligaf.es//partido/athletic-club-femenino/fc-barcelona-femenino/2023309348\n"
     ]
    },
    {
     "name": "stderr",
     "output_type": "stream",
     "text": [
      "C:\\Users\\minih\\Documents\\GitHub\\FutFem-stats\\venv\\lib\\site-packages\\urllib3\\connectionpool.py:1045: InsecureRequestWarning: Unverified HTTPS request is being made to host 'ligaf.es'. Adding certificate verification is strongly advised. See: https://urllib3.readthedocs.io/en/1.26.x/advanced-usage.html#ssl-warnings\n",
      "  warnings.warn(\n"
     ]
    },
    {
     "name": "stdout",
     "output_type": "stream",
     "text": [
      "Empty DataFrame\n",
      "Columns: [Min, Event, Player, Team, Against, Home/Away]\n",
      "Index: []\n",
      "https://ligaf.es//partido/real-betis-balompie-femenino/fc-barcelona-femenino/2023309360\n"
     ]
    },
    {
     "name": "stderr",
     "output_type": "stream",
     "text": [
      "C:\\Users\\minih\\Documents\\GitHub\\FutFem-stats\\venv\\lib\\site-packages\\urllib3\\connectionpool.py:1045: InsecureRequestWarning: Unverified HTTPS request is being made to host 'ligaf.es'. Adding certificate verification is strongly advised. See: https://urllib3.readthedocs.io/en/1.26.x/advanced-usage.html#ssl-warnings\n",
      "  warnings.warn(\n"
     ]
    },
    {
     "name": "stdout",
     "output_type": "stream",
     "text": [
      "Empty DataFrame\n",
      "Columns: [Min, Event, Player, Team, Against, Home/Away]\n",
      "Index: []\n",
      "https://ligaf.es//partido/fc-barcelona-femenino/levante-ud-femenino/2023309363\n"
     ]
    },
    {
     "name": "stderr",
     "output_type": "stream",
     "text": [
      "C:\\Users\\minih\\Documents\\GitHub\\FutFem-stats\\venv\\lib\\site-packages\\urllib3\\connectionpool.py:1045: InsecureRequestWarning: Unverified HTTPS request is being made to host 'ligaf.es'. Adding certificate verification is strongly advised. See: https://urllib3.readthedocs.io/en/1.26.x/advanced-usage.html#ssl-warnings\n",
      "  warnings.warn(\n"
     ]
    },
    {
     "name": "stdout",
     "output_type": "stream",
     "text": [
      "Empty DataFrame\n",
      "Columns: [Min, Event, Player, Team, Against, Home/Away]\n",
      "Index: []\n",
      "https://ligaf.es//partido/levante-las-planas-femenino/fc-barcelona-femenino/2023309291\n"
     ]
    },
    {
     "name": "stderr",
     "output_type": "stream",
     "text": [
      "C:\\Users\\minih\\Documents\\GitHub\\FutFem-stats\\venv\\lib\\site-packages\\urllib3\\connectionpool.py:1045: InsecureRequestWarning: Unverified HTTPS request is being made to host 'ligaf.es'. Adding certificate verification is strongly advised. See: https://urllib3.readthedocs.io/en/1.26.x/advanced-usage.html#ssl-warnings\n",
      "  warnings.warn(\n"
     ]
    },
    {
     "name": "stdout",
     "output_type": "stream",
     "text": [
      "Empty DataFrame\n",
      "Columns: [Min, Event, Player, Team, Against, Home/Away]\n",
      "Index: []\n",
      "https://ligaf.es//partido/real-madrid-cf-femenino/fc-barcelona-femenino/2023309371\n"
     ]
    },
    {
     "name": "stderr",
     "output_type": "stream",
     "text": [
      "C:\\Users\\minih\\Documents\\GitHub\\FutFem-stats\\venv\\lib\\site-packages\\urllib3\\connectionpool.py:1045: InsecureRequestWarning: Unverified HTTPS request is being made to host 'ligaf.es'. Adding certificate verification is strongly advised. See: https://urllib3.readthedocs.io/en/1.26.x/advanced-usage.html#ssl-warnings\n",
      "  warnings.warn(\n"
     ]
    },
    {
     "name": "stdout",
     "output_type": "stream",
     "text": [
      "Empty DataFrame\n",
      "Columns: [Min, Event, Player, Team, Against, Home/Away]\n",
      "Index: []\n",
      "https://ligaf.es//partido/fc-barcelona-femenino/deportivo-alaves-femenino/2023309384\n"
     ]
    },
    {
     "name": "stderr",
     "output_type": "stream",
     "text": [
      "C:\\Users\\minih\\Documents\\GitHub\\FutFem-stats\\venv\\lib\\site-packages\\urllib3\\connectionpool.py:1045: InsecureRequestWarning: Unverified HTTPS request is being made to host 'ligaf.es'. Adding certificate verification is strongly advised. See: https://urllib3.readthedocs.io/en/1.26.x/advanced-usage.html#ssl-warnings\n",
      "  warnings.warn(\n"
     ]
    },
    {
     "name": "stdout",
     "output_type": "stream",
     "text": [
      "Empty DataFrame\n",
      "Columns: [Min, Event, Player, Team, Against, Home/Away]\n",
      "Index: []\n",
      "https://ligaf.es//partido/club-atletico-de-madrid-femenino/fc-barcelona-femenino/2023309385\n"
     ]
    },
    {
     "name": "stderr",
     "output_type": "stream",
     "text": [
      "C:\\Users\\minih\\Documents\\GitHub\\FutFem-stats\\venv\\lib\\site-packages\\urllib3\\connectionpool.py:1045: InsecureRequestWarning: Unverified HTTPS request is being made to host 'ligaf.es'. Adding certificate verification is strongly advised. See: https://urllib3.readthedocs.io/en/1.26.x/advanced-usage.html#ssl-warnings\n",
      "  warnings.warn(\n"
     ]
    },
    {
     "name": "stdout",
     "output_type": "stream",
     "text": [
      "Empty DataFrame\n",
      "Columns: [Min, Event, Player, Team, Against, Home/Away]\n",
      "Index: []\n",
      "https://ligaf.es//partido/fc-barcelona-femenino/real-sociedad-futbol-femenino/2023309397\n"
     ]
    },
    {
     "name": "stderr",
     "output_type": "stream",
     "text": [
      "C:\\Users\\minih\\Documents\\GitHub\\FutFem-stats\\venv\\lib\\site-packages\\urllib3\\connectionpool.py:1045: InsecureRequestWarning: Unverified HTTPS request is being made to host 'ligaf.es'. Adding certificate verification is strongly advised. See: https://urllib3.readthedocs.io/en/1.26.x/advanced-usage.html#ssl-warnings\n",
      "  warnings.warn(\n"
     ]
    },
    {
     "name": "stdout",
     "output_type": "stream",
     "text": [
      "Empty DataFrame\n",
      "Columns: [Min, Event, Player, Team, Against, Home/Away]\n",
      "Index: []\n",
      "https://ligaf.es//partido/fc-barcelona-femenino/alhama-cf-femenino/2023309408\n"
     ]
    },
    {
     "name": "stderr",
     "output_type": "stream",
     "text": [
      "C:\\Users\\minih\\Documents\\GitHub\\FutFem-stats\\venv\\lib\\site-packages\\urllib3\\connectionpool.py:1045: InsecureRequestWarning: Unverified HTTPS request is being made to host 'ligaf.es'. Adding certificate verification is strongly advised. See: https://urllib3.readthedocs.io/en/1.26.x/advanced-usage.html#ssl-warnings\n",
      "  warnings.warn(\n"
     ]
    },
    {
     "name": "stdout",
     "output_type": "stream",
     "text": [
      "Empty DataFrame\n",
      "Columns: [Min, Event, Player, Team, Against, Home/Away]\n",
      "Index: []\n",
      "https://ligaf.es//partido/fc-barcelona-femenino/sevilla-fc-femenino-esp/2023309424\n"
     ]
    },
    {
     "name": "stderr",
     "output_type": "stream",
     "text": [
      "C:\\Users\\minih\\Documents\\GitHub\\FutFem-stats\\venv\\lib\\site-packages\\urllib3\\connectionpool.py:1045: InsecureRequestWarning: Unverified HTTPS request is being made to host 'ligaf.es'. Adding certificate verification is strongly advised. See: https://urllib3.readthedocs.io/en/1.26.x/advanced-usage.html#ssl-warnings\n",
      "  warnings.warn(\n"
     ]
    },
    {
     "name": "stdout",
     "output_type": "stream",
     "text": [
      "Empty DataFrame\n",
      "Columns: [Min, Event, Player, Team, Against, Home/Away]\n",
      "Index: []\n",
      "https://ligaf.es//partido/sc-huelva-femenino/fc-barcelona-femenino/2023309426\n"
     ]
    },
    {
     "name": "stderr",
     "output_type": "stream",
     "text": [
      "C:\\Users\\minih\\Documents\\GitHub\\FutFem-stats\\venv\\lib\\site-packages\\urllib3\\connectionpool.py:1045: InsecureRequestWarning: Unverified HTTPS request is being made to host 'ligaf.es'. Adding certificate verification is strongly advised. See: https://urllib3.readthedocs.io/en/1.26.x/advanced-usage.html#ssl-warnings\n",
      "  warnings.warn(\n"
     ]
    },
    {
     "name": "stdout",
     "output_type": "stream",
     "text": [
      "Empty DataFrame\n",
      "Columns: [Min, Event, Player, Team, Against, Home/Away]\n",
      "Index: []\n",
      "https://ligaf.es//partido/fc-barcelona-femenino/levante-las-planas-femenino/2023309436\n"
     ]
    },
    {
     "name": "stderr",
     "output_type": "stream",
     "text": [
      "C:\\Users\\minih\\Documents\\GitHub\\FutFem-stats\\venv\\lib\\site-packages\\urllib3\\connectionpool.py:1045: InsecureRequestWarning: Unverified HTTPS request is being made to host 'ligaf.es'. Adding certificate verification is strongly advised. See: https://urllib3.readthedocs.io/en/1.26.x/advanced-usage.html#ssl-warnings\n",
      "  warnings.warn(\n"
     ]
    },
    {
     "name": "stdout",
     "output_type": "stream",
     "text": [
      "Empty DataFrame\n",
      "Columns: [Min, Event, Player, Team, Against, Home/Away]\n",
      "Index: []\n",
      "https://ligaf.es//partido/udg_tenerife_/fc-barcelona-femenino/2023309573\n"
     ]
    },
    {
     "name": "stderr",
     "output_type": "stream",
     "text": [
      "C:\\Users\\minih\\Documents\\GitHub\\FutFem-stats\\venv\\lib\\site-packages\\urllib3\\connectionpool.py:1045: InsecureRequestWarning: Unverified HTTPS request is being made to host 'ligaf.es'. Adding certificate verification is strongly advised. See: https://urllib3.readthedocs.io/en/1.26.x/advanced-usage.html#ssl-warnings\n",
      "  warnings.warn(\n"
     ]
    },
    {
     "name": "stdout",
     "output_type": "stream",
     "text": [
      "Empty DataFrame\n",
      "Columns: [Min, Event, Player, Team, Against, Home/Away]\n",
      "Index: []\n",
      "https://ligaf.es//partido/valencia-cf-femenino/fc-barcelona-femenino/2023309414\n"
     ]
    },
    {
     "name": "stderr",
     "output_type": "stream",
     "text": [
      "C:\\Users\\minih\\Documents\\GitHub\\FutFem-stats\\venv\\lib\\site-packages\\urllib3\\connectionpool.py:1045: InsecureRequestWarning: Unverified HTTPS request is being made to host 'ligaf.es'. Adding certificate verification is strongly advised. See: https://urllib3.readthedocs.io/en/1.26.x/advanced-usage.html#ssl-warnings\n",
      "  warnings.warn(\n"
     ]
    },
    {
     "name": "stdout",
     "output_type": "stream",
     "text": [
      "Empty DataFrame\n",
      "Columns: [Min, Event, Player, Team, Against, Home/Away]\n",
      "Index: []\n",
      "https://ligaf.es//partido/fc-barcelona-femenino/real-betis-balompie-femenino/2023309720\n"
     ]
    },
    {
     "name": "stderr",
     "output_type": "stream",
     "text": [
      "C:\\Users\\minih\\Documents\\GitHub\\FutFem-stats\\venv\\lib\\site-packages\\urllib3\\connectionpool.py:1045: InsecureRequestWarning: Unverified HTTPS request is being made to host 'ligaf.es'. Adding certificate verification is strongly advised. See: https://urllib3.readthedocs.io/en/1.26.x/advanced-usage.html#ssl-warnings\n",
      "  warnings.warn(\n"
     ]
    },
    {
     "name": "stdout",
     "output_type": "stream",
     "text": [
      "Empty DataFrame\n",
      "Columns: [Min, Event, Player, Team, Against, Home/Away]\n",
      "Index: []\n",
      "https://ligaf.es//partido/deportivo-alaves-femenino/fc-barcelona-femenino/2023309722\n",
      "Empty DataFrame\n",
      "Columns: [Min, Event, Player, Team, Against, Home/Away]\n",
      "Index: []\n",
      "https://ligaf.es//partido/fc-barcelona-femenino/villareal-cf-femenino/2023309884\n"
     ]
    },
    {
     "name": "stderr",
     "output_type": "stream",
     "text": [
      "C:\\Users\\minih\\Documents\\GitHub\\FutFem-stats\\venv\\lib\\site-packages\\urllib3\\connectionpool.py:1045: InsecureRequestWarning: Unverified HTTPS request is being made to host 'ligaf.es'. Adding certificate verification is strongly advised. See: https://urllib3.readthedocs.io/en/1.26.x/advanced-usage.html#ssl-warnings\n",
      "  warnings.warn(\n",
      "C:\\Users\\minih\\Documents\\GitHub\\FutFem-stats\\venv\\lib\\site-packages\\urllib3\\connectionpool.py:1045: InsecureRequestWarning: Unverified HTTPS request is being made to host 'ligaf.es'. Adding certificate verification is strongly advised. See: https://urllib3.readthedocs.io/en/1.26.x/advanced-usage.html#ssl-warnings\n",
      "  warnings.warn(\n"
     ]
    },
    {
     "name": "stdout",
     "output_type": "stream",
     "text": [
      "Empty DataFrame\n",
      "Columns: [Min, Event, Player, Team, Against, Home/Away]\n",
      "Index: []\n",
      "https://ligaf.es//partido/levante-ud-femenino/fc-barcelona-femenino/2023309896\n"
     ]
    },
    {
     "name": "stderr",
     "output_type": "stream",
     "text": [
      "C:\\Users\\minih\\Documents\\GitHub\\FutFem-stats\\venv\\lib\\site-packages\\urllib3\\connectionpool.py:1045: InsecureRequestWarning: Unverified HTTPS request is being made to host 'ligaf.es'. Adding certificate verification is strongly advised. See: https://urllib3.readthedocs.io/en/1.26.x/advanced-usage.html#ssl-warnings\n",
      "  warnings.warn(\n"
     ]
    },
    {
     "name": "stdout",
     "output_type": "stream",
     "text": [
      "Empty DataFrame\n",
      "Columns: [Min, Event, Player, Team, Against, Home/Away]\n",
      "Index: []\n",
      "https://ligaf.es//partido/fc-barcelona-femenino/valencia-cf-femenino/2023309897\n"
     ]
    },
    {
     "name": "stderr",
     "output_type": "stream",
     "text": [
      "C:\\Users\\minih\\Documents\\GitHub\\FutFem-stats\\venv\\lib\\site-packages\\urllib3\\connectionpool.py:1045: InsecureRequestWarning: Unverified HTTPS request is being made to host 'ligaf.es'. Adding certificate verification is strongly advised. See: https://urllib3.readthedocs.io/en/1.26.x/advanced-usage.html#ssl-warnings\n",
      "  warnings.warn(\n"
     ]
    },
    {
     "name": "stdout",
     "output_type": "stream",
     "text": [
      "Empty DataFrame\n",
      "Columns: [Min, Event, Player, Team, Against, Home/Away]\n",
      "Index: []\n",
      "https://ligaf.es//partido/fc-barcelona-femenino/real-madrid-cf-femenino/2023310088\n"
     ]
    },
    {
     "name": "stderr",
     "output_type": "stream",
     "text": [
      "C:\\Users\\minih\\Documents\\GitHub\\FutFem-stats\\venv\\lib\\site-packages\\urllib3\\connectionpool.py:1045: InsecureRequestWarning: Unverified HTTPS request is being made to host 'ligaf.es'. Adding certificate verification is strongly advised. See: https://urllib3.readthedocs.io/en/1.26.x/advanced-usage.html#ssl-warnings\n",
      "  warnings.warn(\n"
     ]
    },
    {
     "name": "stdout",
     "output_type": "stream",
     "text": [
      "Empty DataFrame\n",
      "Columns: [Min, Event, Player, Team, Against, Home/Away]\n",
      "Index: []\n",
      "https://ligaf.es//partido/alhama-cf-femenino/fc-barcelona-femenino/2023310095\n"
     ]
    },
    {
     "name": "stderr",
     "output_type": "stream",
     "text": [
      "C:\\Users\\minih\\Documents\\GitHub\\FutFem-stats\\venv\\lib\\site-packages\\urllib3\\connectionpool.py:1045: InsecureRequestWarning: Unverified HTTPS request is being made to host 'ligaf.es'. Adding certificate verification is strongly advised. See: https://urllib3.readthedocs.io/en/1.26.x/advanced-usage.html#ssl-warnings\n",
      "  warnings.warn(\n"
     ]
    },
    {
     "name": "stdout",
     "output_type": "stream",
     "text": [
      "Empty DataFrame\n",
      "Columns: [Min, Event, Player, Team, Against, Home/Away]\n",
      "Index: []\n",
      "https://ligaf.es//partido/fc-barcelona-femenino/club-atletico-de-madrid-femenino/2023310104\n"
     ]
    },
    {
     "name": "stderr",
     "output_type": "stream",
     "text": [
      "C:\\Users\\minih\\Documents\\GitHub\\FutFem-stats\\venv\\lib\\site-packages\\urllib3\\connectionpool.py:1045: InsecureRequestWarning: Unverified HTTPS request is being made to host 'ligaf.es'. Adding certificate verification is strongly advised. See: https://urllib3.readthedocs.io/en/1.26.x/advanced-usage.html#ssl-warnings\n",
      "  warnings.warn(\n"
     ]
    },
    {
     "name": "stdout",
     "output_type": "stream",
     "text": [
      "Empty DataFrame\n",
      "Columns: [Min, Event, Player, Team, Against, Home/Away]\n",
      "Index: []\n",
      "https://ligaf.es//partido/sevilla-fc-femenino-esp/fc-barcelona-femenino/2023310109\n"
     ]
    },
    {
     "name": "stderr",
     "output_type": "stream",
     "text": [
      "C:\\Users\\minih\\Documents\\GitHub\\FutFem-stats\\venv\\lib\\site-packages\\urllib3\\connectionpool.py:1045: InsecureRequestWarning: Unverified HTTPS request is being made to host 'ligaf.es'. Adding certificate verification is strongly advised. See: https://urllib3.readthedocs.io/en/1.26.x/advanced-usage.html#ssl-warnings\n",
      "  warnings.warn(\n"
     ]
    },
    {
     "name": "stdout",
     "output_type": "stream",
     "text": [
      "Empty DataFrame\n",
      "Columns: [Min, Event, Player, Team, Against, Home/Away]\n",
      "Index: []\n",
      "https://ligaf.es//partido/fc-barcelona-femenino/sc-huelva-femenino/2023310120\n"
     ]
    },
    {
     "name": "stderr",
     "output_type": "stream",
     "text": [
      "C:\\Users\\minih\\Documents\\GitHub\\FutFem-stats\\venv\\lib\\site-packages\\urllib3\\connectionpool.py:1045: InsecureRequestWarning: Unverified HTTPS request is being made to host 'ligaf.es'. Adding certificate verification is strongly advised. See: https://urllib3.readthedocs.io/en/1.26.x/advanced-usage.html#ssl-warnings\n",
      "  warnings.warn(\n"
     ]
    },
    {
     "name": "stdout",
     "output_type": "stream",
     "text": [
      "Empty DataFrame\n",
      "Columns: [Min, Event, Player, Team, Against, Home/Away]\n",
      "Index: []\n",
      "https://ligaf.es//partido/real-sociedad-futbol-femenino/fc-barcelona-femenino/2023310123\n"
     ]
    },
    {
     "name": "stderr",
     "output_type": "stream",
     "text": [
      "C:\\Users\\minih\\Documents\\GitHub\\FutFem-stats\\venv\\lib\\site-packages\\urllib3\\connectionpool.py:1045: InsecureRequestWarning: Unverified HTTPS request is being made to host 'ligaf.es'. Adding certificate verification is strongly advised. See: https://urllib3.readthedocs.io/en/1.26.x/advanced-usage.html#ssl-warnings\n",
      "  warnings.warn(\n"
     ]
    },
    {
     "name": "stdout",
     "output_type": "stream",
     "text": [
      "Empty DataFrame\n",
      "Columns: [Min, Event, Player, Team, Against, Home/Away]\n",
      "Index: []\n",
      "https://ligaf.es//partido/fc-barcelona-femenino/athletic-club-femenino/2023310131\n"
     ]
    },
    {
     "name": "stderr",
     "output_type": "stream",
     "text": [
      "C:\\Users\\minih\\Documents\\GitHub\\FutFem-stats\\venv\\lib\\site-packages\\urllib3\\connectionpool.py:1045: InsecureRequestWarning: Unverified HTTPS request is being made to host 'ligaf.es'. Adding certificate verification is strongly advised. See: https://urllib3.readthedocs.io/en/1.26.x/advanced-usage.html#ssl-warnings\n",
      "  warnings.warn(\n"
     ]
    },
    {
     "name": "stdout",
     "output_type": "stream",
     "text": [
      "Empty DataFrame\n",
      "Columns: [Min, Event, Player, Team, Against, Home/Away]\n",
      "Index: []\n",
      "https://ligaf.es//partido/madrid-cf-femenino/fc-barcelona-femenino/2023310142\n"
     ]
    },
    {
     "name": "stderr",
     "output_type": "stream",
     "text": [
      "C:\\Users\\minih\\Documents\\GitHub\\FutFem-stats\\venv\\lib\\site-packages\\urllib3\\connectionpool.py:1045: InsecureRequestWarning: Unverified HTTPS request is being made to host 'ligaf.es'. Adding certificate verification is strongly advised. See: https://urllib3.readthedocs.io/en/1.26.x/advanced-usage.html#ssl-warnings\n",
      "  warnings.warn(\n"
     ]
    },
    {
     "name": "stdout",
     "output_type": "stream",
     "text": [
      "Empty DataFrame\n",
      "Columns: [Min, Event, Player, Team, Against, Home/Away]\n",
      "Index: []\n"
     ]
    }
   ],
   "source": [
    "page = requests.get(\"https://ligaf.es/equipo/fc-barcelona-femenino/8852/resultados/2023\", verify=False)\n",
    "soup = BeautifulSoup(page.content, \"html.parser\")\n",
    "links = soup.find_all('a', {\"class\":\"match-box ta-c\"})\n",
    "data = []\n",
    "df = pd.DataFrame(columns=[\"Min\", \"Event\", \"Player\", \"Team\", \"Against\", \"Home/Away\"])\n",
    "\n",
    "for link in links:\n",
    "        url = \"https://ligaf.es/\" + str(link).split('\"')[3]\n",
    "        print(url)\n",
    "        new_df = scrapper(url)\n",
    "        print(new_df)\n",
    "        df = pd.concat([df, new_df])"
   ],
   "metadata": {
    "collapsed": false,
    "pycharm": {
     "name": "#%%\n"
    }
   }
  },
  {
   "cell_type": "code",
   "execution_count": 132,
   "outputs": [
    {
     "data": {
      "text/plain": "Empty DataFrame\nColumns: [Min, Event, Player, Team, Against, Home/Away]\nIndex: []",
      "text/html": "<div>\n<style scoped>\n    .dataframe tbody tr th:only-of-type {\n        vertical-align: middle;\n    }\n\n    .dataframe tbody tr th {\n        vertical-align: top;\n    }\n\n    .dataframe thead th {\n        text-align: right;\n    }\n</style>\n<table border=\"1\" class=\"dataframe\">\n  <thead>\n    <tr style=\"text-align: right;\">\n      <th></th>\n      <th>Min</th>\n      <th>Event</th>\n      <th>Player</th>\n      <th>Team</th>\n      <th>Against</th>\n      <th>Home/Away</th>\n    </tr>\n  </thead>\n  <tbody>\n  </tbody>\n</table>\n</div>"
     },
     "execution_count": 132,
     "metadata": {},
     "output_type": "execute_result"
    }
   ],
   "source": [
    "df"
   ],
   "metadata": {
    "collapsed": false,
    "pycharm": {
     "name": "#%%\n"
    }
   }
  }
 ],
 "metadata": {
  "kernelspec": {
   "display_name": "Python 3",
   "language": "python",
   "name": "python3"
  },
  "language_info": {
   "codemirror_mode": {
    "name": "ipython",
    "version": 2
   },
   "file_extension": ".py",
   "mimetype": "text/x-python",
   "name": "python",
   "nbconvert_exporter": "python",
   "pygments_lexer": "ipython2",
   "version": "2.7.6"
  }
 },
 "nbformat": 4,
 "nbformat_minor": 0
}